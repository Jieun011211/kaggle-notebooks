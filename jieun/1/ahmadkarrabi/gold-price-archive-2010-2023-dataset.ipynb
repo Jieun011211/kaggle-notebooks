{
 "cells": [
  {
   "cell_type": "markdown",
   "metadata": {},
   "source": [
    "## 금 가격 아카이브 2010-2023 데이터 세트"
   ]
  },
  {
   "cell_type": "code",
   "execution_count": 1,
   "metadata": {},
   "outputs": [],
   "source": [
    "import pandas as pd\n",
    "import numpy as np\n",
    "import matplotlib.pyplot as plt"
   ]
  },
  {
   "cell_type": "code",
   "execution_count": 2,
   "metadata": {},
   "outputs": [],
   "source": [
    "df = pd.read_csv(\"/home/leejieun/workspace/kaggle-notebooks/datasets/ahmadkarrabi/gold-price-archive-2010-2023-dataset/XAUUSD_2010-2023.csv\")"
   ]
  },
  {
   "cell_type": "code",
   "execution_count": 4,
   "metadata": {},
   "outputs": [
    {
     "data": {
      "text/html": [
       "<div>\n",
       "<style scoped>\n",
       "    .dataframe tbody tr th:only-of-type {\n",
       "        vertical-align: middle;\n",
       "    }\n",
       "\n",
       "    .dataframe tbody tr th {\n",
       "        vertical-align: top;\n",
       "    }\n",
       "\n",
       "    .dataframe thead th {\n",
       "        text-align: right;\n",
       "    }\n",
       "</style>\n",
       "<table border=\"1\" class=\"dataframe\">\n",
       "  <thead>\n",
       "    <tr style=\"text-align: right;\">\n",
       "      <th></th>\n",
       "      <th>open</th>\n",
       "      <th>high</th>\n",
       "      <th>low</th>\n",
       "      <th>close</th>\n",
       "      <th>rsi14</th>\n",
       "      <th>sma14</th>\n",
       "    </tr>\n",
       "  </thead>\n",
       "  <tbody>\n",
       "    <tr>\n",
       "      <th>count</th>\n",
       "      <td>986004.000000</td>\n",
       "      <td>986004.000000</td>\n",
       "      <td>986004.000000</td>\n",
       "      <td>986004.000000</td>\n",
       "      <td>986004.000000</td>\n",
       "      <td>986004.000000</td>\n",
       "    </tr>\n",
       "    <tr>\n",
       "      <th>mean</th>\n",
       "      <td>1480.687806</td>\n",
       "      <td>1481.201203</td>\n",
       "      <td>1480.169858</td>\n",
       "      <td>1480.688379</td>\n",
       "      <td>50.260961</td>\n",
       "      <td>1480.681750</td>\n",
       "    </tr>\n",
       "    <tr>\n",
       "      <th>std</th>\n",
       "      <td>269.235947</td>\n",
       "      <td>269.360461</td>\n",
       "      <td>269.108012</td>\n",
       "      <td>269.235929</td>\n",
       "      <td>11.309953</td>\n",
       "      <td>269.230025</td>\n",
       "    </tr>\n",
       "    <tr>\n",
       "      <th>min</th>\n",
       "      <td>1046.920000</td>\n",
       "      <td>1048.080000</td>\n",
       "      <td>1044.180000</td>\n",
       "      <td>1046.940000</td>\n",
       "      <td>3.000000</td>\n",
       "      <td>1048.840000</td>\n",
       "    </tr>\n",
       "    <tr>\n",
       "      <th>25%</th>\n",
       "      <td>1252.750000</td>\n",
       "      <td>1253.080000</td>\n",
       "      <td>1252.400000</td>\n",
       "      <td>1252.750000</td>\n",
       "      <td>42.810000</td>\n",
       "      <td>1252.740000</td>\n",
       "    </tr>\n",
       "    <tr>\n",
       "      <th>50%</th>\n",
       "      <td>1373.580000</td>\n",
       "      <td>1374.180000</td>\n",
       "      <td>1373.055000</td>\n",
       "      <td>1373.580000</td>\n",
       "      <td>50.250000</td>\n",
       "      <td>1373.580000</td>\n",
       "    </tr>\n",
       "    <tr>\n",
       "      <th>75%</th>\n",
       "      <td>1732.680000</td>\n",
       "      <td>1733.320000</td>\n",
       "      <td>1732.010000</td>\n",
       "      <td>1732.680000</td>\n",
       "      <td>57.730000</td>\n",
       "      <td>1732.660000</td>\n",
       "    </tr>\n",
       "    <tr>\n",
       "      <th>max</th>\n",
       "      <td>2138.000000</td>\n",
       "      <td>2145.140000</td>\n",
       "      <td>2125.980000</td>\n",
       "      <td>2138.410000</td>\n",
       "      <td>96.800000</td>\n",
       "      <td>2116.810000</td>\n",
       "    </tr>\n",
       "  </tbody>\n",
       "</table>\n",
       "</div>"
      ],
      "text/plain": [
       "                open           high            low          close  \\\n",
       "count  986004.000000  986004.000000  986004.000000  986004.000000   \n",
       "mean     1480.687806    1481.201203    1480.169858    1480.688379   \n",
       "std       269.235947     269.360461     269.108012     269.235929   \n",
       "min      1046.920000    1048.080000    1044.180000    1046.940000   \n",
       "25%      1252.750000    1253.080000    1252.400000    1252.750000   \n",
       "50%      1373.580000    1374.180000    1373.055000    1373.580000   \n",
       "75%      1732.680000    1733.320000    1732.010000    1732.680000   \n",
       "max      2138.000000    2145.140000    2125.980000    2138.410000   \n",
       "\n",
       "               rsi14          sma14  \n",
       "count  986004.000000  986004.000000  \n",
       "mean       50.260961    1480.681750  \n",
       "std        11.309953     269.230025  \n",
       "min         3.000000    1048.840000  \n",
       "25%        42.810000    1252.740000  \n",
       "50%        50.250000    1373.580000  \n",
       "75%        57.730000    1732.660000  \n",
       "max        96.800000    2116.810000  "
      ]
     },
     "execution_count": 4,
     "metadata": {},
     "output_type": "execute_result"
    }
   ],
   "source": [
    "df.describe()"
   ]
  },
  {
   "cell_type": "code",
   "execution_count": 8,
   "metadata": {},
   "outputs": [
    {
     "data": {
      "text/html": [
       "<div>\n",
       "<style scoped>\n",
       "    .dataframe tbody tr th:only-of-type {\n",
       "        vertical-align: middle;\n",
       "    }\n",
       "\n",
       "    .dataframe tbody tr th {\n",
       "        vertical-align: top;\n",
       "    }\n",
       "\n",
       "    .dataframe thead th {\n",
       "        text-align: right;\n",
       "    }\n",
       "</style>\n",
       "<table border=\"1\" class=\"dataframe\">\n",
       "  <thead>\n",
       "    <tr style=\"text-align: right;\">\n",
       "      <th></th>\n",
       "      <th>time</th>\n",
       "      <th>open</th>\n",
       "      <th>high</th>\n",
       "      <th>low</th>\n",
       "      <th>close</th>\n",
       "      <th>rsi14</th>\n",
       "      <th>sma14</th>\n",
       "    </tr>\n",
       "  </thead>\n",
       "  <tbody>\n",
       "    <tr>\n",
       "      <th>0</th>\n",
       "      <td>2010-01-03 18:00:00</td>\n",
       "      <td>1098.45</td>\n",
       "      <td>1100.00</td>\n",
       "      <td>1098.05</td>\n",
       "      <td>1099.95</td>\n",
       "      <td>81.98</td>\n",
       "      <td>1096.38</td>\n",
       "    </tr>\n",
       "    <tr>\n",
       "      <th>1</th>\n",
       "      <td>2010-01-03 18:05:00</td>\n",
       "      <td>1100.00</td>\n",
       "      <td>1100.30</td>\n",
       "      <td>1099.45</td>\n",
       "      <td>1099.75</td>\n",
       "      <td>79.17</td>\n",
       "      <td>1096.72</td>\n",
       "    </tr>\n",
       "    <tr>\n",
       "      <th>2</th>\n",
       "      <td>2010-01-03 18:10:00</td>\n",
       "      <td>1099.70</td>\n",
       "      <td>1100.10</td>\n",
       "      <td>1099.30</td>\n",
       "      <td>1099.45</td>\n",
       "      <td>75.02</td>\n",
       "      <td>1097.03</td>\n",
       "    </tr>\n",
       "    <tr>\n",
       "      <th>3</th>\n",
       "      <td>2010-01-03 18:15:00</td>\n",
       "      <td>1099.50</td>\n",
       "      <td>1099.60</td>\n",
       "      <td>1098.50</td>\n",
       "      <td>1099.45</td>\n",
       "      <td>75.02</td>\n",
       "      <td>1097.30</td>\n",
       "    </tr>\n",
       "    <tr>\n",
       "      <th>4</th>\n",
       "      <td>2010-01-03 18:20:00</td>\n",
       "      <td>1099.40</td>\n",
       "      <td>1099.60</td>\n",
       "      <td>1098.90</td>\n",
       "      <td>1098.90</td>\n",
       "      <td>67.50</td>\n",
       "      <td>1097.50</td>\n",
       "    </tr>\n",
       "    <tr>\n",
       "      <th>...</th>\n",
       "      <td>...</td>\n",
       "      <td>...</td>\n",
       "      <td>...</td>\n",
       "      <td>...</td>\n",
       "      <td>...</td>\n",
       "      <td>...</td>\n",
       "      <td>...</td>\n",
       "    </tr>\n",
       "    <tr>\n",
       "      <th>985999</th>\n",
       "      <td>2023-12-29 16:35:00</td>\n",
       "      <td>2063.07</td>\n",
       "      <td>2063.24</td>\n",
       "      <td>2062.60</td>\n",
       "      <td>2062.96</td>\n",
       "      <td>39.44</td>\n",
       "      <td>2063.48</td>\n",
       "    </tr>\n",
       "    <tr>\n",
       "      <th>986000</th>\n",
       "      <td>2023-12-29 16:40:00</td>\n",
       "      <td>2062.95</td>\n",
       "      <td>2063.09</td>\n",
       "      <td>2062.52</td>\n",
       "      <td>2062.61</td>\n",
       "      <td>37.12</td>\n",
       "      <td>2063.27</td>\n",
       "    </tr>\n",
       "    <tr>\n",
       "      <th>986001</th>\n",
       "      <td>2023-12-29 16:45:00</td>\n",
       "      <td>2062.60</td>\n",
       "      <td>2062.83</td>\n",
       "      <td>2062.34</td>\n",
       "      <td>2062.56</td>\n",
       "      <td>36.79</td>\n",
       "      <td>2063.06</td>\n",
       "    </tr>\n",
       "    <tr>\n",
       "      <th>986002</th>\n",
       "      <td>2023-12-29 16:50:00</td>\n",
       "      <td>2062.56</td>\n",
       "      <td>2063.20</td>\n",
       "      <td>2062.51</td>\n",
       "      <td>2062.54</td>\n",
       "      <td>36.65</td>\n",
       "      <td>2062.95</td>\n",
       "    </tr>\n",
       "    <tr>\n",
       "      <th>986003</th>\n",
       "      <td>2023-12-29 16:55:00</td>\n",
       "      <td>2062.52</td>\n",
       "      <td>2063.00</td>\n",
       "      <td>2062.37</td>\n",
       "      <td>2062.73</td>\n",
       "      <td>39.05</td>\n",
       "      <td>2062.90</td>\n",
       "    </tr>\n",
       "  </tbody>\n",
       "</table>\n",
       "<p>986004 rows × 7 columns</p>\n",
       "</div>"
      ],
      "text/plain": [
       "                       time     open     high      low    close  rsi14  \\\n",
       "0       2010-01-03 18:00:00  1098.45  1100.00  1098.05  1099.95  81.98   \n",
       "1       2010-01-03 18:05:00  1100.00  1100.30  1099.45  1099.75  79.17   \n",
       "2       2010-01-03 18:10:00  1099.70  1100.10  1099.30  1099.45  75.02   \n",
       "3       2010-01-03 18:15:00  1099.50  1099.60  1098.50  1099.45  75.02   \n",
       "4       2010-01-03 18:20:00  1099.40  1099.60  1098.90  1098.90  67.50   \n",
       "...                     ...      ...      ...      ...      ...    ...   \n",
       "985999  2023-12-29 16:35:00  2063.07  2063.24  2062.60  2062.96  39.44   \n",
       "986000  2023-12-29 16:40:00  2062.95  2063.09  2062.52  2062.61  37.12   \n",
       "986001  2023-12-29 16:45:00  2062.60  2062.83  2062.34  2062.56  36.79   \n",
       "986002  2023-12-29 16:50:00  2062.56  2063.20  2062.51  2062.54  36.65   \n",
       "986003  2023-12-29 16:55:00  2062.52  2063.00  2062.37  2062.73  39.05   \n",
       "\n",
       "          sma14  \n",
       "0       1096.38  \n",
       "1       1096.72  \n",
       "2       1097.03  \n",
       "3       1097.30  \n",
       "4       1097.50  \n",
       "...         ...  \n",
       "985999  2063.48  \n",
       "986000  2063.27  \n",
       "986001  2063.06  \n",
       "986002  2062.95  \n",
       "986003  2062.90  \n",
       "\n",
       "[986004 rows x 7 columns]"
      ]
     },
     "execution_count": 8,
     "metadata": {},
     "output_type": "execute_result"
    }
   ],
   "source": [
    "df= df.round(2)\n",
    "df"
   ]
  },
  {
   "cell_type": "code",
   "execution_count": 10,
   "metadata": {},
   "outputs": [
    {
     "data": {
      "text/plain": [
       "time      object\n",
       "open     float64\n",
       "high     float64\n",
       "low      float64\n",
       "close    float64\n",
       "rsi14    float64\n",
       "sma14    float64\n",
       "dtype: object"
      ]
     },
     "execution_count": 10,
     "metadata": {},
     "output_type": "execute_result"
    }
   ],
   "source": [
    "df.dtypes"
   ]
  },
  {
   "cell_type": "code",
   "execution_count": 11,
   "metadata": {},
   "outputs": [],
   "source": [
    "df['time'] = pd.to_datetime(df['time'])"
   ]
  },
  {
   "cell_type": "code",
   "execution_count": 12,
   "metadata": {},
   "outputs": [],
   "source": [
    "df2023 = df[df['time'].dt.year ==2023]"
   ]
  },
  {
   "cell_type": "code",
   "execution_count": 13,
   "metadata": {},
   "outputs": [
    {
     "data": {
      "text/plain": [
       "<function matplotlib.pyplot.show(close=None, block=None)>"
      ]
     },
     "execution_count": 13,
     "metadata": {},
     "output_type": "execute_result"
    },
    {
     "data": {
      "image/png": "[encoded data removed]",
      "text/plain": [
       "<Figure size 640x480 with 1 Axes>"
      ]
     },
     "metadata": {},
     "output_type": "display_data"
    }
   ],
   "source": [
    "plt.plot(df2023['time'], df2023['close'])\n",
    "plt.xlabel('Time')\n",
    "plt.ylabel('Closing Price')\n",
    "plt.title('Gold Price Time Series (year 2023)')\n",
    "plt.show"
   ]
  },
  {
   "cell_type": "code",
   "execution_count": 14,
   "metadata": {},
   "outputs": [
    {
     "data": {
      "image/png": "[encoded data removed]",
      "text/plain": [
       "<Figure size 640x480 with 1 Axes>"
      ]
     },
     "metadata": {},
     "output_type": "display_data"
    }
   ],
   "source": [
    "plt.hist(df2023['close'])\n",
    "plt.xlabel(\"Closing Price\")\n",
    "plt.ylabel(\"Frequency\")\n",
    "plt.title('Distribution of Closing Prices')\n",
    "plt.show()"
   ]
  },
  {
   "cell_type": "code",
   "execution_count": 15,
   "metadata": {},
   "outputs": [
    {
     "name": "stdout",
     "output_type": "stream",
     "text": [
      "           time      open      high       low     close     rsi14     sma14\n",
      "time   1.000000  0.437857  0.436882  0.438856  0.437875  0.000335  0.438058\n",
      "open   0.437857  1.000000  0.999925  0.999930  0.999882  0.036718  0.999491\n",
      "high   0.436882  0.999925  1.000000  0.999875  0.999939  0.039550  0.999408\n",
      "low    0.438856  0.999930  0.999875  1.000000  0.999933  0.039440  0.999429\n",
      "close  0.437875  0.999882  0.999939  0.999933  1.000000  0.041689  0.999384\n",
      "rsi14  0.000335  0.036718  0.039550  0.039440  0.041689  1.000000  0.014861\n",
      "sma14  0.438058  0.999491  0.999408  0.999429  0.999384  0.014861  1.000000\n"
     ]
    }
   ],
   "source": [
    "correlation = df2023.corr()\n",
    "print(correlation)"
   ]
  },
  {
   "cell_type": "code",
   "execution_count": null,
   "metadata": {},
   "outputs": [],
   "source": []
  }
 ],
 "metadata": {
  "kernelspec": {
   "display_name": "ai",
   "language": "python",
   "name": "python3"
  },
  "language_info": {
   "codemirror_mode": {
    "name": "ipython",
    "version": 3
   },
   "file_extension": ".py",
   "mimetype": "text/x-python",
   "name": "python",
   "nbconvert_exporter": "python",
   "pygments_lexer": "ipython3",
   "version": "3.12.2"
  }
 },
 "nbformat": 4,
 "nbformat_minor": 2
}
