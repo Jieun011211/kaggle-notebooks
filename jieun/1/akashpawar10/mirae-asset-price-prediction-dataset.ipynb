{
 "cells": [
  {
   "cell_type": "markdown",
   "metadata": {},
   "source": [
    "## 미래에셋 가격 예측 데이터 세트"
   ]
  },
  {
   "cell_type": "code",
   "execution_count": 1,
   "metadata": {},
   "outputs": [],
   "source": [
    "import numpy as np\n",
    "import pandas as pd\n",
    "import matplotlib.pyplot as plt\n",
    "import seaborn as sns"
   ]
  },
  {
   "cell_type": "code",
   "execution_count": 2,
   "metadata": {},
   "outputs": [],
   "source": [
    "df = pd.read_csv(\"/home/leejieun/workspace/kaggle-notebooks/datasets/akashpawar10/mirae-asset-price-prediction-dataset/0P00017844.BO.csv\")"
   ]
  },
  {
   "cell_type": "code",
   "execution_count": 3,
   "metadata": {},
   "outputs": [
    {
     "data": {
      "text/html": [
       "<div>\n",
       "<style scoped>\n",
       "    .dataframe tbody tr th:only-of-type {\n",
       "        vertical-align: middle;\n",
       "    }\n",
       "\n",
       "    .dataframe tbody tr th {\n",
       "        vertical-align: top;\n",
       "    }\n",
       "\n",
       "    .dataframe thead th {\n",
       "        text-align: right;\n",
       "    }\n",
       "</style>\n",
       "<table border=\"1\" class=\"dataframe\">\n",
       "  <thead>\n",
       "    <tr style=\"text-align: right;\">\n",
       "      <th></th>\n",
       "      <th>Date</th>\n",
       "      <th>Open</th>\n",
       "      <th>High</th>\n",
       "      <th>Low</th>\n",
       "      <th>Close</th>\n",
       "      <th>Adj Close</th>\n",
       "      <th>Volume</th>\n",
       "    </tr>\n",
       "  </thead>\n",
       "  <tbody>\n",
       "    <tr>\n",
       "      <th>0</th>\n",
       "      <td>1/27/2023</td>\n",
       "      <td>33.618999</td>\n",
       "      <td>33.618999</td>\n",
       "      <td>33.618999</td>\n",
       "      <td>33.618999</td>\n",
       "      <td>33.618999</td>\n",
       "      <td>0.0</td>\n",
       "    </tr>\n",
       "    <tr>\n",
       "      <th>1</th>\n",
       "      <td>1/30/2023</td>\n",
       "      <td>33.695000</td>\n",
       "      <td>33.695000</td>\n",
       "      <td>33.695000</td>\n",
       "      <td>33.695000</td>\n",
       "      <td>33.695000</td>\n",
       "      <td>0.0</td>\n",
       "    </tr>\n",
       "    <tr>\n",
       "      <th>2</th>\n",
       "      <td>1/31/2023</td>\n",
       "      <td>33.891998</td>\n",
       "      <td>33.891998</td>\n",
       "      <td>33.891998</td>\n",
       "      <td>33.891998</td>\n",
       "      <td>33.891998</td>\n",
       "      <td>0.0</td>\n",
       "    </tr>\n",
       "    <tr>\n",
       "      <th>3</th>\n",
       "      <td>2/1/2023</td>\n",
       "      <td>33.744999</td>\n",
       "      <td>33.744999</td>\n",
       "      <td>33.744999</td>\n",
       "      <td>33.744999</td>\n",
       "      <td>33.744999</td>\n",
       "      <td>0.0</td>\n",
       "    </tr>\n",
       "    <tr>\n",
       "      <th>4</th>\n",
       "      <td>2/2/2023</td>\n",
       "      <td>33.768002</td>\n",
       "      <td>33.768002</td>\n",
       "      <td>33.768002</td>\n",
       "      <td>33.768002</td>\n",
       "      <td>33.768002</td>\n",
       "      <td>0.0</td>\n",
       "    </tr>\n",
       "  </tbody>\n",
       "</table>\n",
       "</div>"
      ],
      "text/plain": [
       "        Date       Open       High        Low      Close  Adj Close  Volume\n",
       "0  1/27/2023  33.618999  33.618999  33.618999  33.618999  33.618999     0.0\n",
       "1  1/30/2023  33.695000  33.695000  33.695000  33.695000  33.695000     0.0\n",
       "2  1/31/2023  33.891998  33.891998  33.891998  33.891998  33.891998     0.0\n",
       "3   2/1/2023  33.744999  33.744999  33.744999  33.744999  33.744999     0.0\n",
       "4   2/2/2023  33.768002  33.768002  33.768002  33.768002  33.768002     0.0"
      ]
     },
     "execution_count": 3,
     "metadata": {},
     "output_type": "execute_result"
    }
   ],
   "source": [
    "df.head()"
   ]
  },
  {
   "cell_type": "code",
   "execution_count": 6,
   "metadata": {},
   "outputs": [
    {
     "data": {
      "text/html": [
       "<div>\n",
       "<style scoped>\n",
       "    .dataframe tbody tr th:only-of-type {\n",
       "        vertical-align: middle;\n",
       "    }\n",
       "\n",
       "    .dataframe tbody tr th {\n",
       "        vertical-align: top;\n",
       "    }\n",
       "\n",
       "    .dataframe thead th {\n",
       "        text-align: right;\n",
       "    }\n",
       "</style>\n",
       "<table border=\"1\" class=\"dataframe\">\n",
       "  <thead>\n",
       "    <tr style=\"text-align: right;\">\n",
       "      <th></th>\n",
       "      <th>Date</th>\n",
       "      <th>Open</th>\n",
       "      <th>High</th>\n",
       "      <th>Low</th>\n",
       "      <th>Close</th>\n",
       "      <th>Adj Close</th>\n",
       "      <th>Volume</th>\n",
       "    </tr>\n",
       "  </thead>\n",
       "  <tbody>\n",
       "    <tr>\n",
       "      <th>241</th>\n",
       "      <td>1/19/2024</td>\n",
       "      <td>44.525002</td>\n",
       "      <td>44.525002</td>\n",
       "      <td>44.525002</td>\n",
       "      <td>44.525002</td>\n",
       "      <td>44.525002</td>\n",
       "      <td>0.0</td>\n",
       "    </tr>\n",
       "    <tr>\n",
       "      <th>242</th>\n",
       "      <td>1/22/2024</td>\n",
       "      <td>NaN</td>\n",
       "      <td>NaN</td>\n",
       "      <td>NaN</td>\n",
       "      <td>NaN</td>\n",
       "      <td>NaN</td>\n",
       "      <td>NaN</td>\n",
       "    </tr>\n",
       "    <tr>\n",
       "      <th>243</th>\n",
       "      <td>1/23/2024</td>\n",
       "      <td>43.733002</td>\n",
       "      <td>43.733002</td>\n",
       "      <td>43.733002</td>\n",
       "      <td>43.733002</td>\n",
       "      <td>43.733002</td>\n",
       "      <td>0.0</td>\n",
       "    </tr>\n",
       "    <tr>\n",
       "      <th>244</th>\n",
       "      <td>1/24/2024</td>\n",
       "      <td>44.422001</td>\n",
       "      <td>44.422001</td>\n",
       "      <td>44.422001</td>\n",
       "      <td>44.422001</td>\n",
       "      <td>44.422001</td>\n",
       "      <td>0.0</td>\n",
       "    </tr>\n",
       "    <tr>\n",
       "      <th>245</th>\n",
       "      <td>1/25/2024</td>\n",
       "      <td>NaN</td>\n",
       "      <td>NaN</td>\n",
       "      <td>NaN</td>\n",
       "      <td>NaN</td>\n",
       "      <td>NaN</td>\n",
       "      <td>NaN</td>\n",
       "    </tr>\n",
       "  </tbody>\n",
       "</table>\n",
       "</div>"
      ],
      "text/plain": [
       "          Date       Open       High        Low      Close  Adj Close  Volume\n",
       "241  1/19/2024  44.525002  44.525002  44.525002  44.525002  44.525002     0.0\n",
       "242  1/22/2024        NaN        NaN        NaN        NaN        NaN     NaN\n",
       "243  1/23/2024  43.733002  43.733002  43.733002  43.733002  43.733002     0.0\n",
       "244  1/24/2024  44.422001  44.422001  44.422001  44.422001  44.422001     0.0\n",
       "245  1/25/2024        NaN        NaN        NaN        NaN        NaN     NaN"
      ]
     },
     "execution_count": 6,
     "metadata": {},
     "output_type": "execute_result"
    }
   ],
   "source": [
    "df.tail()"
   ]
  },
  {
   "cell_type": "code",
   "execution_count": 7,
   "metadata": {},
   "outputs": [
    {
     "data": {
      "text/html": [
       "<div>\n",
       "<style scoped>\n",
       "    .dataframe tbody tr th:only-of-type {\n",
       "        vertical-align: middle;\n",
       "    }\n",
       "\n",
       "    .dataframe tbody tr th {\n",
       "        vertical-align: top;\n",
       "    }\n",
       "\n",
       "    .dataframe thead th {\n",
       "        text-align: right;\n",
       "    }\n",
       "</style>\n",
       "<table border=\"1\" class=\"dataframe\">\n",
       "  <thead>\n",
       "    <tr style=\"text-align: right;\">\n",
       "      <th></th>\n",
       "      <th>Open</th>\n",
       "      <th>High</th>\n",
       "      <th>Low</th>\n",
       "      <th>Close</th>\n",
       "      <th>Adj Close</th>\n",
       "      <th>Volume</th>\n",
       "    </tr>\n",
       "  </thead>\n",
       "  <tbody>\n",
       "    <tr>\n",
       "      <th>count</th>\n",
       "      <td>243.000000</td>\n",
       "      <td>243.000000</td>\n",
       "      <td>243.000000</td>\n",
       "      <td>243.000000</td>\n",
       "      <td>243.000000</td>\n",
       "      <td>243.0</td>\n",
       "    </tr>\n",
       "    <tr>\n",
       "      <th>mean</th>\n",
       "      <td>38.033515</td>\n",
       "      <td>38.033515</td>\n",
       "      <td>38.033515</td>\n",
       "      <td>38.033515</td>\n",
       "      <td>38.033515</td>\n",
       "      <td>0.0</td>\n",
       "    </tr>\n",
       "    <tr>\n",
       "      <th>std</th>\n",
       "      <td>3.445963</td>\n",
       "      <td>3.445963</td>\n",
       "      <td>3.445963</td>\n",
       "      <td>3.445963</td>\n",
       "      <td>3.445963</td>\n",
       "      <td>0.0</td>\n",
       "    </tr>\n",
       "    <tr>\n",
       "      <th>min</th>\n",
       "      <td>32.618999</td>\n",
       "      <td>32.618999</td>\n",
       "      <td>32.618999</td>\n",
       "      <td>32.618999</td>\n",
       "      <td>32.618999</td>\n",
       "      <td>0.0</td>\n",
       "    </tr>\n",
       "    <tr>\n",
       "      <th>25%</th>\n",
       "      <td>34.786501</td>\n",
       "      <td>34.786501</td>\n",
       "      <td>34.786501</td>\n",
       "      <td>34.786501</td>\n",
       "      <td>34.786501</td>\n",
       "      <td>0.0</td>\n",
       "    </tr>\n",
       "    <tr>\n",
       "      <th>50%</th>\n",
       "      <td>38.595001</td>\n",
       "      <td>38.595001</td>\n",
       "      <td>38.595001</td>\n",
       "      <td>38.595001</td>\n",
       "      <td>38.595001</td>\n",
       "      <td>0.0</td>\n",
       "    </tr>\n",
       "    <tr>\n",
       "      <th>75%</th>\n",
       "      <td>40.053999</td>\n",
       "      <td>40.053999</td>\n",
       "      <td>40.053999</td>\n",
       "      <td>40.053999</td>\n",
       "      <td>40.053999</td>\n",
       "      <td>0.0</td>\n",
       "    </tr>\n",
       "    <tr>\n",
       "      <th>max</th>\n",
       "      <td>45.395000</td>\n",
       "      <td>45.395000</td>\n",
       "      <td>45.395000</td>\n",
       "      <td>45.395000</td>\n",
       "      <td>45.395000</td>\n",
       "      <td>0.0</td>\n",
       "    </tr>\n",
       "  </tbody>\n",
       "</table>\n",
       "</div>"
      ],
      "text/plain": [
       "             Open        High         Low       Close   Adj Close  Volume\n",
       "count  243.000000  243.000000  243.000000  243.000000  243.000000   243.0\n",
       "mean    38.033515   38.033515   38.033515   38.033515   38.033515     0.0\n",
       "std      3.445963    3.445963    3.445963    3.445963    3.445963     0.0\n",
       "min     32.618999   32.618999   32.618999   32.618999   32.618999     0.0\n",
       "25%     34.786501   34.786501   34.786501   34.786501   34.786501     0.0\n",
       "50%     38.595001   38.595001   38.595001   38.595001   38.595001     0.0\n",
       "75%     40.053999   40.053999   40.053999   40.053999   40.053999     0.0\n",
       "max     45.395000   45.395000   45.395000   45.395000   45.395000     0.0"
      ]
     },
     "execution_count": 7,
     "metadata": {},
     "output_type": "execute_result"
    }
   ],
   "source": [
    "df.describe()"
   ]
  },
  {
   "cell_type": "code",
   "execution_count": 8,
   "metadata": {},
   "outputs": [
    {
     "name": "stdout",
     "output_type": "stream",
     "text": [
      "<class 'pandas.core.frame.DataFrame'>\n",
      "RangeIndex: 246 entries, 0 to 245\n",
      "Data columns (total 7 columns):\n",
      " #   Column     Non-Null Count  Dtype  \n",
      "---  ------     --------------  -----  \n",
      " 0   Date       246 non-null    object \n",
      " 1   Open       243 non-null    float64\n",
      " 2   High       243 non-null    float64\n",
      " 3   Low        243 non-null    float64\n",
      " 4   Close      243 non-null    float64\n",
      " 5   Adj Close  243 non-null    float64\n",
      " 6   Volume     243 non-null    float64\n",
      "dtypes: float64(6), object(1)\n",
      "memory usage: 13.6+ KB\n"
     ]
    }
   ],
   "source": [
    "df.info()"
   ]
  },
  {
   "cell_type": "code",
   "execution_count": 9,
   "metadata": {},
   "outputs": [],
   "source": [
    "df['Date']= pd.to_datetime(df['Date'])\n",
    "df['Month'] = df['Date'].dt.month"
   ]
  },
  {
   "cell_type": "code",
   "execution_count": 14,
   "metadata": {},
   "outputs": [
    {
     "data": {
      "text/plain": [
       "Date         0.000000\n",
       "Open         1.219512\n",
       "High         1.219512\n",
       "Low          1.219512\n",
       "Close        1.219512\n",
       "Adj Close    1.219512\n",
       "Volume       1.219512\n",
       "Month        0.000000\n",
       "dtype: float64"
      ]
     },
     "execution_count": 14,
     "metadata": {},
     "output_type": "execute_result"
    }
   ],
   "source": [
    "df.isna().sum()*100/ df.shape[0]"
   ]
  },
  {
   "cell_type": "code",
   "execution_count": 15,
   "metadata": {},
   "outputs": [
    {
     "data": {
      "text/plain": [
       "(246, 8)"
      ]
     },
     "execution_count": 15,
     "metadata": {},
     "output_type": "execute_result"
    }
   ],
   "source": [
    "df.shape"
   ]
  },
  {
   "cell_type": "code",
   "execution_count": 16,
   "metadata": {},
   "outputs": [],
   "source": [
    "df.dropna(inplace=True)"
   ]
  },
  {
   "cell_type": "code",
   "execution_count": 17,
   "metadata": {},
   "outputs": [
    {
     "data": {
      "text/plain": [
       "Date         0.0\n",
       "Open         0.0\n",
       "High         0.0\n",
       "Low          0.0\n",
       "Close        0.0\n",
       "Adj Close    0.0\n",
       "Volume       0.0\n",
       "Month        0.0\n",
       "dtype: float64"
      ]
     },
     "execution_count": 17,
     "metadata": {},
     "output_type": "execute_result"
    }
   ],
   "source": [
    "df.isna().sum()*100 / df.shape[0]"
   ]
  },
  {
   "cell_type": "code",
   "execution_count": 18,
   "metadata": {},
   "outputs": [
    {
     "data": {
      "image/png": "[encoded data removed]",
      "text/plain": [
       "<Figure size 1500x300 with 1 Axes>"
      ]
     },
     "metadata": {},
     "output_type": "display_data"
    }
   ],
   "source": [
    "plt.figure(figsize=(15,3))\n",
    "sns.lineplot(data=df, x='Month', y='High', label='High')\n",
    "plt.bar(df['Month'], df['Low'], label='Low')\n",
    "sns.lineplot(data=df, x='Month', y='Open', label='Open')\n",
    "sns.lineplot(data=df, x='Month', y='Close', label='Close')\n",
    "sns.lineplot(data=df, x='Month', y='Adj Close', label='Adj Close')\n",
    "plt.grid()\n",
    "plt.show()"
   ]
  },
  {
   "cell_type": "code",
   "execution_count": 19,
   "metadata": {},
   "outputs": [
    {
     "data": {
      "image/png": "[encoded data removed]",
      "text/plain": [
       "<Figure size 640x480 with 1 Axes>"
      ]
     },
     "metadata": {},
     "output_type": "display_data"
    }
   ],
   "source": [
    "sns.boxplot(df[['High', 'Low', 'Open', 'Close', 'Adj Close']])\n",
    "plt.show()"
   ]
  },
  {
   "cell_type": "code",
   "execution_count": null,
   "metadata": {},
   "outputs": [],
   "source": []
  }
 ],
 "metadata": {
  "kernelspec": {
   "display_name": "ai",
   "language": "python",
   "name": "python3"
  },
  "language_info": {
   "codemirror_mode": {
    "name": "ipython",
    "version": 3
   },
   "file_extension": ".py",
   "mimetype": "text/x-python",
   "name": "python",
   "nbconvert_exporter": "python",
   "pygments_lexer": "ipython3",
   "version": "3.12.2"
  }
 },
 "nbformat": 4,
 "nbformat_minor": 2
}
