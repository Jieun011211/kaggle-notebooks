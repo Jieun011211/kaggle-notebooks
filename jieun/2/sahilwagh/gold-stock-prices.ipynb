{
 "cells": [
  {
   "cell_type": "markdown",
   "metadata": {},
   "source": [
    "## 금 주가\n",
    "GC:CMX 과거 데이터"
   ]
  },
  {
   "cell_type": "code",
   "execution_count": 1,
   "metadata": {},
   "outputs": [
    {
     "name": "stderr",
     "output_type": "stream",
     "text": [
      "2024-03-29 13:47:26.513235: I tensorflow/core/util/port.cc:113] oneDNN custom operations are on. You may see slightly different numerical results due to floating-point round-off errors from different computation orders. To turn them off, set the environment variable `TF_ENABLE_ONEDNN_OPTS=0`.\n",
      "2024-03-29 13:47:26.580438: I tensorflow/core/platform/cpu_feature_guard.cc:210] This TensorFlow binary is optimized to use available CPU instructions in performance-critical operations.\n",
      "To enable the following instructions: AVX2 AVX_VNNI FMA, in other operations, rebuild TensorFlow with the appropriate compiler flags.\n",
      "2024-03-29 13:47:27.056958: W tensorflow/compiler/tf2tensorrt/utils/py_utils.cc:38] TF-TRT Warning: Could not find TensorRT\n"
     ]
    }
   ],
   "source": [
    "import datetime\n",
    "import numpy as np\n",
    "import pandas as pd\n",
    "import tensorflow as tf\n",
    "import matplotlib.pyplot as plt\n",
    "import matplotlib.dates as mdate\n",
    "from sklearn.preprocessing import MinMaxScaler\n",
    "from tensorflow.keras.models import Sequential\n",
    "from tensorflow.keras.layers import Dense, LSTM, Dropout, Bidirectional"
   ]
  },
  {
   "cell_type": "code",
   "execution_count": 4,
   "metadata": {},
   "outputs": [],
   "source": [
    "DATA_PATH = \"/home/leejieun/workspace/kaggle-notebooks/datasets/sahilwagh/gold-stock-prices/goldstock.csv\""
   ]
  },
  {
   "cell_type": "code",
   "execution_count": 15,
   "metadata": {},
   "outputs": [],
   "source": [
    "def populate_missing_date_values(df):\n",
    "  start_date = df['Date'][0].date()\n",
    "\n",
    "  dates = df['Date']\n",
    "\n",
    "  dataset = []\n",
    "  num_days_in_future = 1\n",
    "\n",
    "  for index, day in enumerate(dates):\n",
    "\n",
    "    current_df_date = str(day.date())\n",
    "\n",
    "\n",
    "    if (index == 0):\n",
    "      open_price = df['Open'][index]\n",
    "      day_step = [current_df_date, open_price]\n",
    "      dataset.append(day_step)\n",
    "      continue\n",
    "    \n",
    "    open_price = df['Open'][index]\n",
    "    close_price = df['Close'][index - 1]\n",
    "\n",
    "    current_date = str(start_date + datetime.timedelta(days = num_days_in_future))\n",
    "\n",
    "    if (current_date != current_df_date):\n",
    "      found_next_date = False\n",
    "\n",
    "      while not found_next_date:\n",
    "        if (current_date == current_df_date):\n",
    "          found_next_date = True\n",
    "\n",
    "          day_step = [current_date, open_price]\n",
    "          dataset.append(day_step)\n",
    "        else:\n",
    "          day_step = [current_date, close_price]\n",
    "          dataset.append(day_step)\n",
    "\n",
    "          num_days_in_future += 1\n",
    "          current_date = str(start_date + datetime.timedelta(days=num_days_in_future))\n",
    "    else:\n",
    "      day_step = [current_date, open_price]\n",
    "      dataset.append(day_step)\n",
    "\n",
    "    num_days_in_future += 1\n",
    "\n",
    "  return dataset"
   ]
  },
  {
   "cell_type": "code",
   "execution_count": 19,
   "metadata": {},
   "outputs": [
    {
     "data": {
      "text/html": [
       "<div>\n",
       "<style scoped>\n",
       "    .dataframe tbody tr th:only-of-type {\n",
       "        vertical-align: middle;\n",
       "    }\n",
       "\n",
       "    .dataframe tbody tr th {\n",
       "        vertical-align: top;\n",
       "    }\n",
       "\n",
       "    .dataframe thead th {\n",
       "        text-align: right;\n",
       "    }\n",
       "</style>\n",
       "<table border=\"1\" class=\"dataframe\">\n",
       "  <thead>\n",
       "    <tr style=\"text-align: right;\">\n",
       "      <th></th>\n",
       "      <th>Date</th>\n",
       "      <th>Open</th>\n",
       "    </tr>\n",
       "  </thead>\n",
       "  <tbody>\n",
       "    <tr>\n",
       "      <th>0</th>\n",
       "      <td>2014-01-22</td>\n",
       "      <td>1240.5</td>\n",
       "    </tr>\n",
       "    <tr>\n",
       "      <th>1</th>\n",
       "      <td>2014-01-23</td>\n",
       "      <td>1235.1</td>\n",
       "    </tr>\n",
       "    <tr>\n",
       "      <th>2</th>\n",
       "      <td>2014-01-24</td>\n",
       "      <td>1264.3</td>\n",
       "    </tr>\n",
       "    <tr>\n",
       "      <th>3</th>\n",
       "      <td>2014-01-25</td>\n",
       "      <td>1264.5</td>\n",
       "    </tr>\n",
       "    <tr>\n",
       "      <th>4</th>\n",
       "      <td>2014-01-26</td>\n",
       "      <td>1264.5</td>\n",
       "    </tr>\n",
       "    <tr>\n",
       "      <th>5</th>\n",
       "      <td>2014-01-27</td>\n",
       "      <td>1269.9</td>\n",
       "    </tr>\n",
       "    <tr>\n",
       "      <th>6</th>\n",
       "      <td>2014-01-28</td>\n",
       "      <td>1254.9</td>\n",
       "    </tr>\n",
       "    <tr>\n",
       "      <th>7</th>\n",
       "      <td>2014-01-29</td>\n",
       "      <td>1255.8</td>\n",
       "    </tr>\n",
       "    <tr>\n",
       "      <th>8</th>\n",
       "      <td>2014-01-30</td>\n",
       "      <td>1267.2</td>\n",
       "    </tr>\n",
       "    <tr>\n",
       "      <th>9</th>\n",
       "      <td>2014-01-31</td>\n",
       "      <td>1244.0</td>\n",
       "    </tr>\n",
       "  </tbody>\n",
       "</table>\n",
       "</div>"
      ],
      "text/plain": [
       "         Date    Open\n",
       "0  2014-01-22  1240.5\n",
       "1  2014-01-23  1235.1\n",
       "2  2014-01-24  1264.3\n",
       "3  2014-01-25  1264.5\n",
       "4  2014-01-26  1264.5\n",
       "5  2014-01-27  1269.9\n",
       "6  2014-01-28  1254.9\n",
       "7  2014-01-29  1255.8\n",
       "8  2014-01-30  1267.2\n",
       "9  2014-01-31  1244.0"
      ]
     },
     "execution_count": 19,
     "metadata": {},
     "output_type": "execute_result"
    }
   ],
   "source": [
    "df = pd.read_csv(DATA_PATH)\n",
    "df['Date'] = pd.to_datetime(df['Date'])\n",
    "\n",
    "df = df.sort_values(by='Date', ascending=True)\n",
    "\n",
    "df.drop_duplicates(subset=['Date'], keep='first', inplace=True)\n",
    "df.reset_index(drop=True, inplace=True)\n",
    "\n",
    "df = populate_missing_date_values(df)\n",
    "\n",
    "df = pd.DataFrame(df, columns=['Date', 'Open'])\n",
    "df.head(10)"
   ]
  },
  {
   "cell_type": "code",
   "execution_count": 17,
   "metadata": {},
   "outputs": [
    {
     "data": {
      "image/png": "[encoded data removed]",
      "text/plain": [
       "<Figure size 640x480 with 1 Axes>"
      ]
     },
     "metadata": {},
     "output_type": "display_data"
    }
   ],
   "source": [
    "plt.plot(df['Date'], df['Open'], color='red')\n",
    "\n",
    "locator = mdate.YearLocator()\n",
    "plt.gca().xaxis.set_major_locator(locator)\n",
    "plt.gcf().autofmt_xdate()\n",
    "plt.xlabel('Date')\n",
    "plt.ylabel('Open Price')\n",
    "plt.title('Gold Stock Price')\n",
    "plt.show()"
   ]
  },
  {
   "cell_type": "code",
   "execution_count": null,
   "metadata": {},
   "outputs": [],
   "source": []
  }
 ],
 "metadata": {
  "kernelspec": {
   "display_name": "ai",
   "language": "python",
   "name": "python3"
  },
  "language_info": {
   "codemirror_mode": {
    "name": "ipython",
    "version": 3
   },
   "file_extension": ".py",
   "mimetype": "text/x-python",
   "name": "python",
   "nbconvert_exporter": "python",
   "pygments_lexer": "ipython3",
   "version": "3.12.2"
  }
 },
 "nbformat": 4,
 "nbformat_minor": 2
}
