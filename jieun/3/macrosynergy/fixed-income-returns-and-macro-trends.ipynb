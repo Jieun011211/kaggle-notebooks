{
 "cells": [
  {
   "cell_type": "markdown",
   "metadata": {},
   "source": [
    "## JPMaQS 양자 지표"
   ]
  },
  {
   "cell_type": "code",
   "execution_count": 1,
   "metadata": {},
   "outputs": [],
   "source": [
    "%%capture\n",
    "! pip install git+https://github.com/macrosynergy/macrosynergy@develop"
   ]
  },
  {
   "cell_type": "code",
   "execution_count": 2,
   "metadata": {},
   "outputs": [],
   "source": [
    "import numpy as np\n",
    "import pandas as pd\n",
    "\n",
    "import macrosynergy.management as msm\n",
    "import macrosynergy.panel as msp\n",
    "import macrosynergy.signal as mss\n",
    "import macrosynergy.pnl as msn\n",
    "\n",
    "from macrosynergy.download import JPMaQSDownload\n",
    "\n",
    "from timeit import default_timer as timer\n",
    "from datetime import timedelta, date\n",
    "\n",
    "import warnings\n",
    "warnings.simplefilter(\"ignore\")"
   ]
  },
  {
   "cell_type": "code",
   "execution_count": 3,
   "metadata": {},
   "outputs": [],
   "source": [
    "df = pd.read_csv('/Users/leejieun/kaggle-notebooks/datasets/macrosynergy/fixed-income-returns-and-macro-trends/JPMaQS_Quantamental_Indicators.csv', index_col=0, parse_dates=['real_date'])"
   ]
  },
  {
   "cell_type": "code",
   "execution_count": 4,
   "metadata": {},
   "outputs": [
    {
     "data": {
      "text/html": [
       "<div>\n",
       "<style scoped>\n",
       "    .dataframe tbody tr th:only-of-type {\n",
       "        vertical-align: middle;\n",
       "    }\n",
       "\n",
       "    .dataframe tbody tr th {\n",
       "        vertical-align: top;\n",
       "    }\n",
       "\n",
       "    .dataframe thead th {\n",
       "        text-align: right;\n",
       "    }\n",
       "</style>\n",
       "<table border=\"1\" class=\"dataframe\">\n",
       "  <thead>\n",
       "    <tr style=\"text-align: right;\">\n",
       "      <th></th>\n",
       "      <th>real_date</th>\n",
       "      <th>cid</th>\n",
       "      <th>xcat</th>\n",
       "      <th>value</th>\n",
       "      <th>grading</th>\n",
       "      <th>eop_lag</th>\n",
       "      <th>mop_lag</th>\n",
       "    </tr>\n",
       "  </thead>\n",
       "  <tbody>\n",
       "    <tr>\n",
       "      <th>0</th>\n",
       "      <td>2000-01-03</td>\n",
       "      <td>AUD</td>\n",
       "      <td>CPIC_SA_P1M1ML12</td>\n",
       "      <td>1.244168</td>\n",
       "      <td>2.0</td>\n",
       "      <td>95.0</td>\n",
       "      <td>292.0</td>\n",
       "    </tr>\n",
       "    <tr>\n",
       "      <th>1</th>\n",
       "      <td>2000-01-04</td>\n",
       "      <td>AUD</td>\n",
       "      <td>CPIC_SA_P1M1ML12</td>\n",
       "      <td>1.244168</td>\n",
       "      <td>2.0</td>\n",
       "      <td>96.0</td>\n",
       "      <td>293.0</td>\n",
       "    </tr>\n",
       "    <tr>\n",
       "      <th>2</th>\n",
       "      <td>2000-01-05</td>\n",
       "      <td>AUD</td>\n",
       "      <td>CPIC_SA_P1M1ML12</td>\n",
       "      <td>1.244168</td>\n",
       "      <td>2.0</td>\n",
       "      <td>97.0</td>\n",
       "      <td>294.0</td>\n",
       "    </tr>\n",
       "    <tr>\n",
       "      <th>3</th>\n",
       "      <td>2000-01-06</td>\n",
       "      <td>AUD</td>\n",
       "      <td>CPIC_SA_P1M1ML12</td>\n",
       "      <td>1.244168</td>\n",
       "      <td>2.0</td>\n",
       "      <td>98.0</td>\n",
       "      <td>295.0</td>\n",
       "    </tr>\n",
       "    <tr>\n",
       "      <th>4</th>\n",
       "      <td>2000-01-07</td>\n",
       "      <td>AUD</td>\n",
       "      <td>CPIC_SA_P1M1ML12</td>\n",
       "      <td>1.244168</td>\n",
       "      <td>2.0</td>\n",
       "      <td>99.0</td>\n",
       "      <td>296.0</td>\n",
       "    </tr>\n",
       "    <tr>\n",
       "      <th>...</th>\n",
       "      <td>...</td>\n",
       "      <td>...</td>\n",
       "      <td>...</td>\n",
       "      <td>...</td>\n",
       "      <td>...</td>\n",
       "      <td>...</td>\n",
       "      <td>...</td>\n",
       "    </tr>\n",
       "    <tr>\n",
       "      <th>3390054</th>\n",
       "      <td>2023-12-07</td>\n",
       "      <td>ZAR</td>\n",
       "      <td>RYLDIRS05Y_NSA</td>\n",
       "      <td>3.202751</td>\n",
       "      <td>1.0</td>\n",
       "      <td>0.0</td>\n",
       "      <td>0.0</td>\n",
       "    </tr>\n",
       "    <tr>\n",
       "      <th>3390055</th>\n",
       "      <td>2023-12-08</td>\n",
       "      <td>ZAR</td>\n",
       "      <td>RYLDIRS05Y_NSA</td>\n",
       "      <td>3.254227</td>\n",
       "      <td>1.0</td>\n",
       "      <td>0.0</td>\n",
       "      <td>0.0</td>\n",
       "    </tr>\n",
       "    <tr>\n",
       "      <th>3390056</th>\n",
       "      <td>2023-12-11</td>\n",
       "      <td>ZAR</td>\n",
       "      <td>RYLDIRS05Y_NSA</td>\n",
       "      <td>3.344046</td>\n",
       "      <td>1.0</td>\n",
       "      <td>0.0</td>\n",
       "      <td>0.0</td>\n",
       "    </tr>\n",
       "    <tr>\n",
       "      <th>3390057</th>\n",
       "      <td>2023-12-12</td>\n",
       "      <td>ZAR</td>\n",
       "      <td>RYLDIRS05Y_NSA</td>\n",
       "      <td>3.283972</td>\n",
       "      <td>1.0</td>\n",
       "      <td>0.0</td>\n",
       "      <td>0.0</td>\n",
       "    </tr>\n",
       "    <tr>\n",
       "      <th>3390058</th>\n",
       "      <td>2023-12-13</td>\n",
       "      <td>ZAR</td>\n",
       "      <td>RYLDIRS05Y_NSA</td>\n",
       "      <td>3.279850</td>\n",
       "      <td>1.0</td>\n",
       "      <td>0.0</td>\n",
       "      <td>0.0</td>\n",
       "    </tr>\n",
       "  </tbody>\n",
       "</table>\n",
       "<p>3390059 rows × 7 columns</p>\n",
       "</div>"
      ],
      "text/plain": [
       "         real_date  cid              xcat     value  grading  eop_lag  mop_lag\n",
       "0       2000-01-03  AUD  CPIC_SA_P1M1ML12  1.244168      2.0     95.0    292.0\n",
       "1       2000-01-04  AUD  CPIC_SA_P1M1ML12  1.244168      2.0     96.0    293.0\n",
       "2       2000-01-05  AUD  CPIC_SA_P1M1ML12  1.244168      2.0     97.0    294.0\n",
       "3       2000-01-06  AUD  CPIC_SA_P1M1ML12  1.244168      2.0     98.0    295.0\n",
       "4       2000-01-07  AUD  CPIC_SA_P1M1ML12  1.244168      2.0     99.0    296.0\n",
       "...            ...  ...               ...       ...      ...      ...      ...\n",
       "3390054 2023-12-07  ZAR    RYLDIRS05Y_NSA  3.202751      1.0      0.0      0.0\n",
       "3390055 2023-12-08  ZAR    RYLDIRS05Y_NSA  3.254227      1.0      0.0      0.0\n",
       "3390056 2023-12-11  ZAR    RYLDIRS05Y_NSA  3.344046      1.0      0.0      0.0\n",
       "3390057 2023-12-12  ZAR    RYLDIRS05Y_NSA  3.283972      1.0      0.0      0.0\n",
       "3390058 2023-12-13  ZAR    RYLDIRS05Y_NSA  3.279850      1.0      0.0      0.0\n",
       "\n",
       "[3390059 rows x 7 columns]"
      ]
     },
     "execution_count": 4,
     "metadata": {},
     "output_type": "execute_result"
    }
   ],
   "source": [
    "df"
   ]
  },
  {
   "cell_type": "code",
   "execution_count": 5,
   "metadata": {},
   "outputs": [
    {
     "data": {
      "text/html": [
       "<div>\n",
       "<style scoped>\n",
       "    .dataframe tbody tr th:only-of-type {\n",
       "        vertical-align: middle;\n",
       "    }\n",
       "\n",
       "    .dataframe tbody tr th {\n",
       "        vertical-align: top;\n",
       "    }\n",
       "\n",
       "    .dataframe thead th {\n",
       "        text-align: right;\n",
       "    }\n",
       "</style>\n",
       "<table border=\"1\" class=\"dataframe\">\n",
       "  <thead>\n",
       "    <tr style=\"text-align: right;\">\n",
       "      <th></th>\n",
       "      <th>real_date</th>\n",
       "      <th>cid</th>\n",
       "      <th>xcat</th>\n",
       "      <th>value</th>\n",
       "      <th>grading</th>\n",
       "      <th>eop_lag</th>\n",
       "      <th>mop_lag</th>\n",
       "    </tr>\n",
       "  </thead>\n",
       "  <tbody>\n",
       "    <tr>\n",
       "      <th>0</th>\n",
       "      <td>2000-01-03</td>\n",
       "      <td>AUD</td>\n",
       "      <td>CPIC_SA_P1M1ML12</td>\n",
       "      <td>1.244168</td>\n",
       "      <td>2.0</td>\n",
       "      <td>95.0</td>\n",
       "      <td>292.0</td>\n",
       "    </tr>\n",
       "    <tr>\n",
       "      <th>1</th>\n",
       "      <td>2000-01-04</td>\n",
       "      <td>AUD</td>\n",
       "      <td>CPIC_SA_P1M1ML12</td>\n",
       "      <td>1.244168</td>\n",
       "      <td>2.0</td>\n",
       "      <td>96.0</td>\n",
       "      <td>293.0</td>\n",
       "    </tr>\n",
       "    <tr>\n",
       "      <th>2</th>\n",
       "      <td>2000-01-05</td>\n",
       "      <td>AUD</td>\n",
       "      <td>CPIC_SA_P1M1ML12</td>\n",
       "      <td>1.244168</td>\n",
       "      <td>2.0</td>\n",
       "      <td>97.0</td>\n",
       "      <td>294.0</td>\n",
       "    </tr>\n",
       "    <tr>\n",
       "      <th>3</th>\n",
       "      <td>2000-01-06</td>\n",
       "      <td>AUD</td>\n",
       "      <td>CPIC_SA_P1M1ML12</td>\n",
       "      <td>1.244168</td>\n",
       "      <td>2.0</td>\n",
       "      <td>98.0</td>\n",
       "      <td>295.0</td>\n",
       "    </tr>\n",
       "    <tr>\n",
       "      <th>4</th>\n",
       "      <td>2000-01-07</td>\n",
       "      <td>AUD</td>\n",
       "      <td>CPIC_SA_P1M1ML12</td>\n",
       "      <td>1.244168</td>\n",
       "      <td>2.0</td>\n",
       "      <td>99.0</td>\n",
       "      <td>296.0</td>\n",
       "    </tr>\n",
       "  </tbody>\n",
       "</table>\n",
       "</div>"
      ],
      "text/plain": [
       "   real_date  cid              xcat     value  grading  eop_lag  mop_lag\n",
       "0 2000-01-03  AUD  CPIC_SA_P1M1ML12  1.244168      2.0     95.0    292.0\n",
       "1 2000-01-04  AUD  CPIC_SA_P1M1ML12  1.244168      2.0     96.0    293.0\n",
       "2 2000-01-05  AUD  CPIC_SA_P1M1ML12  1.244168      2.0     97.0    294.0\n",
       "3 2000-01-06  AUD  CPIC_SA_P1M1ML12  1.244168      2.0     98.0    295.0\n",
       "4 2000-01-07  AUD  CPIC_SA_P1M1ML12  1.244168      2.0     99.0    296.0"
      ]
     },
     "execution_count": 5,
     "metadata": {},
     "output_type": "execute_result"
    }
   ],
   "source": [
    "df.head()"
   ]
  },
  {
   "cell_type": "code",
   "execution_count": 6,
   "metadata": {},
   "outputs": [
    {
     "data": {
      "text/html": [
       "<div>\n",
       "<style scoped>\n",
       "    .dataframe tbody tr th:only-of-type {\n",
       "        vertical-align: middle;\n",
       "    }\n",
       "\n",
       "    .dataframe tbody tr th {\n",
       "        vertical-align: top;\n",
       "    }\n",
       "\n",
       "    .dataframe thead th {\n",
       "        text-align: right;\n",
       "    }\n",
       "</style>\n",
       "<table border=\"1\" class=\"dataframe\">\n",
       "  <thead>\n",
       "    <tr style=\"text-align: right;\">\n",
       "      <th></th>\n",
       "      <th>real_date</th>\n",
       "      <th>cid</th>\n",
       "      <th>xcat</th>\n",
       "      <th>value</th>\n",
       "      <th>grading</th>\n",
       "      <th>eop_lag</th>\n",
       "      <th>mop_lag</th>\n",
       "    </tr>\n",
       "  </thead>\n",
       "  <tbody>\n",
       "    <tr>\n",
       "      <th>3390054</th>\n",
       "      <td>2023-12-07</td>\n",
       "      <td>ZAR</td>\n",
       "      <td>RYLDIRS05Y_NSA</td>\n",
       "      <td>3.202751</td>\n",
       "      <td>1.0</td>\n",
       "      <td>0.0</td>\n",
       "      <td>0.0</td>\n",
       "    </tr>\n",
       "    <tr>\n",
       "      <th>3390055</th>\n",
       "      <td>2023-12-08</td>\n",
       "      <td>ZAR</td>\n",
       "      <td>RYLDIRS05Y_NSA</td>\n",
       "      <td>3.254227</td>\n",
       "      <td>1.0</td>\n",
       "      <td>0.0</td>\n",
       "      <td>0.0</td>\n",
       "    </tr>\n",
       "    <tr>\n",
       "      <th>3390056</th>\n",
       "      <td>2023-12-11</td>\n",
       "      <td>ZAR</td>\n",
       "      <td>RYLDIRS05Y_NSA</td>\n",
       "      <td>3.344046</td>\n",
       "      <td>1.0</td>\n",
       "      <td>0.0</td>\n",
       "      <td>0.0</td>\n",
       "    </tr>\n",
       "    <tr>\n",
       "      <th>3390057</th>\n",
       "      <td>2023-12-12</td>\n",
       "      <td>ZAR</td>\n",
       "      <td>RYLDIRS05Y_NSA</td>\n",
       "      <td>3.283972</td>\n",
       "      <td>1.0</td>\n",
       "      <td>0.0</td>\n",
       "      <td>0.0</td>\n",
       "    </tr>\n",
       "    <tr>\n",
       "      <th>3390058</th>\n",
       "      <td>2023-12-13</td>\n",
       "      <td>ZAR</td>\n",
       "      <td>RYLDIRS05Y_NSA</td>\n",
       "      <td>3.279850</td>\n",
       "      <td>1.0</td>\n",
       "      <td>0.0</td>\n",
       "      <td>0.0</td>\n",
       "    </tr>\n",
       "  </tbody>\n",
       "</table>\n",
       "</div>"
      ],
      "text/plain": [
       "         real_date  cid            xcat     value  grading  eop_lag  mop_lag\n",
       "3390054 2023-12-07  ZAR  RYLDIRS05Y_NSA  3.202751      1.0      0.0      0.0\n",
       "3390055 2023-12-08  ZAR  RYLDIRS05Y_NSA  3.254227      1.0      0.0      0.0\n",
       "3390056 2023-12-11  ZAR  RYLDIRS05Y_NSA  3.344046      1.0      0.0      0.0\n",
       "3390057 2023-12-12  ZAR  RYLDIRS05Y_NSA  3.283972      1.0      0.0      0.0\n",
       "3390058 2023-12-13  ZAR  RYLDIRS05Y_NSA  3.279850      1.0      0.0      0.0"
      ]
     },
     "execution_count": 6,
     "metadata": {},
     "output_type": "execute_result"
    }
   ],
   "source": [
    "df.tail()"
   ]
  },
  {
   "cell_type": "code",
   "execution_count": 7,
   "metadata": {},
   "outputs": [
    {
     "data": {
      "text/plain": [
       "(3390059, 7)"
      ]
     },
     "execution_count": 7,
     "metadata": {},
     "output_type": "execute_result"
    }
   ],
   "source": [
    "df.shape"
   ]
  },
  {
   "cell_type": "code",
   "execution_count": 9,
   "metadata": {},
   "outputs": [
    {
     "name": "stdout",
     "output_type": "stream",
     "text": [
      "<class 'pandas.core.frame.DataFrame'>\n",
      "Index: 3390059 entries, 0 to 3390058\n",
      "Data columns (total 7 columns):\n",
      " #   Column     Dtype         \n",
      "---  ------     -----         \n",
      " 0   real_date  datetime64[ns]\n",
      " 1   cid        object        \n",
      " 2   xcat       object        \n",
      " 3   value      float64       \n",
      " 4   grading    float64       \n",
      " 5   eop_lag    float64       \n",
      " 6   mop_lag    float64       \n",
      "dtypes: datetime64[ns](1), float64(4), object(2)\n",
      "memory usage: 206.9+ MB\n"
     ]
    }
   ],
   "source": [
    "df.info()"
   ]
  },
  {
   "cell_type": "code",
   "execution_count": 10,
   "metadata": {},
   "outputs": [
    {
     "data": {
      "text/html": [
       "<div>\n",
       "<style scoped>\n",
       "    .dataframe tbody tr th:only-of-type {\n",
       "        vertical-align: middle;\n",
       "    }\n",
       "\n",
       "    .dataframe tbody tr th {\n",
       "        vertical-align: top;\n",
       "    }\n",
       "\n",
       "    .dataframe thead th {\n",
       "        text-align: right;\n",
       "    }\n",
       "</style>\n",
       "<table border=\"1\" class=\"dataframe\">\n",
       "  <thead>\n",
       "    <tr style=\"text-align: right;\">\n",
       "      <th></th>\n",
       "      <th>real_date</th>\n",
       "      <th>value</th>\n",
       "      <th>grading</th>\n",
       "      <th>eop_lag</th>\n",
       "      <th>mop_lag</th>\n",
       "    </tr>\n",
       "  </thead>\n",
       "  <tbody>\n",
       "    <tr>\n",
       "      <th>count</th>\n",
       "      <td>3390059</td>\n",
       "      <td>3.390059e+06</td>\n",
       "      <td>3.390059e+06</td>\n",
       "      <td>3.390059e+06</td>\n",
       "      <td>3.390059e+06</td>\n",
       "    </tr>\n",
       "    <tr>\n",
       "      <th>mean</th>\n",
       "      <td>2012-07-24 03:36:56.965662720</td>\n",
       "      <td>1.977237e+00</td>\n",
       "      <td>1.366171e+00</td>\n",
       "      <td>1.715745e+01</td>\n",
       "      <td>1.412662e+02</td>\n",
       "    </tr>\n",
       "    <tr>\n",
       "      <th>min</th>\n",
       "      <td>2000-01-03 00:00:00</td>\n",
       "      <td>-4.894521e+01</td>\n",
       "      <td>1.000000e+00</td>\n",
       "      <td>-3.000000e+01</td>\n",
       "      <td>-1.500000e+01</td>\n",
       "    </tr>\n",
       "    <tr>\n",
       "      <th>25%</th>\n",
       "      <td>2006-12-26 00:00:00</td>\n",
       "      <td>0.000000e+00</td>\n",
       "      <td>1.000000e+00</td>\n",
       "      <td>0.000000e+00</td>\n",
       "      <td>0.000000e+00</td>\n",
       "    </tr>\n",
       "    <tr>\n",
       "      <th>50%</th>\n",
       "      <td>2012-09-19 00:00:00</td>\n",
       "      <td>7.496109e-01</td>\n",
       "      <td>1.000000e+00</td>\n",
       "      <td>0.000000e+00</td>\n",
       "      <td>2.900000e+01</td>\n",
       "    </tr>\n",
       "    <tr>\n",
       "      <th>75%</th>\n",
       "      <td>2018-05-04 00:00:00</td>\n",
       "      <td>2.846841e+00</td>\n",
       "      <td>2.000000e+00</td>\n",
       "      <td>3.100000e+01</td>\n",
       "      <td>2.250000e+02</td>\n",
       "    </tr>\n",
       "    <tr>\n",
       "      <th>max</th>\n",
       "      <td>2023-12-14 00:00:00</td>\n",
       "      <td>3.940715e+02</td>\n",
       "      <td>3.000000e+00</td>\n",
       "      <td>3.550000e+02</td>\n",
       "      <td>1.450000e+03</td>\n",
       "    </tr>\n",
       "    <tr>\n",
       "      <th>std</th>\n",
       "      <td>NaN</td>\n",
       "      <td>4.441622e+00</td>\n",
       "      <td>5.322838e-01</td>\n",
       "      <td>2.811768e+01</td>\n",
       "      <td>2.457459e+02</td>\n",
       "    </tr>\n",
       "  </tbody>\n",
       "</table>\n",
       "</div>"
      ],
      "text/plain": [
       "                           real_date         value       grading  \\\n",
       "count                        3390059  3.390059e+06  3.390059e+06   \n",
       "mean   2012-07-24 03:36:56.965662720  1.977237e+00  1.366171e+00   \n",
       "min              2000-01-03 00:00:00 -4.894521e+01  1.000000e+00   \n",
       "25%              2006-12-26 00:00:00  0.000000e+00  1.000000e+00   \n",
       "50%              2012-09-19 00:00:00  7.496109e-01  1.000000e+00   \n",
       "75%              2018-05-04 00:00:00  2.846841e+00  2.000000e+00   \n",
       "max              2023-12-14 00:00:00  3.940715e+02  3.000000e+00   \n",
       "std                              NaN  4.441622e+00  5.322838e-01   \n",
       "\n",
       "            eop_lag       mop_lag  \n",
       "count  3.390059e+06  3.390059e+06  \n",
       "mean   1.715745e+01  1.412662e+02  \n",
       "min   -3.000000e+01 -1.500000e+01  \n",
       "25%    0.000000e+00  0.000000e+00  \n",
       "50%    0.000000e+00  2.900000e+01  \n",
       "75%    3.100000e+01  2.250000e+02  \n",
       "max    3.550000e+02  1.450000e+03  \n",
       "std    2.811768e+01  2.457459e+02  "
      ]
     },
     "execution_count": 10,
     "metadata": {},
     "output_type": "execute_result"
    }
   ],
   "source": [
    "df.describe()"
   ]
  },
  {
   "cell_type": "code",
   "execution_count": 20,
   "metadata": {},
   "outputs": [
    {
     "data": {
      "text/plain": [
       "7"
      ]
     },
     "execution_count": 20,
     "metadata": {},
     "output_type": "execute_result"
    }
   ],
   "source": [
    "len(df.columns)"
   ]
  },
  {
   "cell_type": "code",
   "execution_count": 21,
   "metadata": {},
   "outputs": [
    {
     "data": {
      "text/plain": [
       "3390059"
      ]
     },
     "execution_count": 21,
     "metadata": {},
     "output_type": "execute_result"
    }
   ],
   "source": [
    "len(df)"
   ]
  },
  {
   "cell_type": "code",
   "execution_count": 22,
   "metadata": {},
   "outputs": [
    {
     "data": {
      "text/plain": [
       "23730413"
      ]
     },
     "execution_count": 22,
     "metadata": {},
     "output_type": "execute_result"
    }
   ],
   "source": [
    "df.size"
   ]
  },
  {
   "cell_type": "code",
   "execution_count": 23,
   "metadata": {},
   "outputs": [],
   "source": [
    "ecos = [\n",
    "    \"CPIC_SA_P1M1ML12\",\n",
    "    \"CPIC_SJA_P3M3ML3AR\",\n",
    "    \"CPIC_SJA_P6M6ML6AR\",\n",
    "    \"CPIH_SA_P1M1ML12\",\n",
    "    \"CPIH_SJA_P3M3ML3AR\",\n",
    "    \"CPIH_SJA_P6M6ML6AR\",\n",
    "    \"INFTEFF_NSA\",\n",
    "    \"INTRGDP_NSA_P1M1ML12_3MMA\",\n",
    "    \"INTRGDPv5Y_NSA_P1M1ML12_3MMA\",\n",
    "    \"PCREDITGDP_SJA_D1M1ML12\",\n",
    "    \"RGDP_SA_P1Q1QL4_20QMA\",\n",
    "    \"RYLDIRS02Y_NSA\",\n",
    "    \"RYLDIRS05Y_NSA\",\n",
    "    \"PCREDITBN_SJA_P1M1ML12\",\n",
    "]\n",
    "mkts = [\n",
    "    \"DU02YXR_NSA\",\n",
    "    \"DU05YXR_NSA\",\n",
    "    \"DU02YXR_VT10\",\n",
    "    \"DU05YXR_VT10\",\n",
    "    \"EQXR_NSA\",\n",
    "    \"EQXR_VT10\",\n",
    "    \"FXXR_NSA\",\n",
    "    \"FXXR_VT10\",\n",
    "    \"FXCRR_NSA\",\n",
    "    \"FXTARGETED_NSA\",\n",
    "    \"FXUNTRADABLE_NSA\",\n",
    "]\n",
    "\n",
    "xcats = ecos + mkts"
   ]
  },
  {
   "cell_type": "code",
   "execution_count": 24,
   "metadata": {},
   "outputs": [],
   "source": [
    "cids_dm = [\"AUD\", \"CAD\", \"CHF\", \"EUR\", \"GBP\", \"JPY\", \"NOK\", \"NZD\", \"SEK\", \"USD\"]\n",
    "cids_em = [\n",
    "    \"CLP\",\n",
    "    \"COP\",\n",
    "    \"CZK\",\n",
    "    \"HUF\",\n",
    "    \"IDR\",\n",
    "    \"ILS\",\n",
    "    \"INR\",\n",
    "    \"KRW\",\n",
    "    \"MXN\",\n",
    "    \"PLN\",\n",
    "    \"THB\",\n",
    "    \"TRY\",\n",
    "    \"TWD\",\n",
    "    \"ZAR\",\n",
    "]\n",
    "cids = cids_dm + cids_em"
   ]
  },
  {
   "cell_type": "code",
   "execution_count": 25,
   "metadata": {},
   "outputs": [
    {
     "data": {
      "text/plain": [
       "array(['CPIC_SA_P1M1ML12', 'CPIC_SJA_P3M3ML3AR', 'CPIC_SJA_P6M6ML6AR',\n",
       "       'CPIH_SA_P1M1ML12', 'CPIH_SJA_P3M3ML3AR', 'CPIH_SJA_P6M6ML6AR',\n",
       "       'DU02YXR_NSA', 'DU02YXR_VT10', 'DU05YXR_NSA', 'DU05YXR_VT10',\n",
       "       'EQXR_NSA', 'EQXR_VT10', 'FXCRR_NSA', 'FXTARGETED_NSA',\n",
       "       'FXUNTRADABLE_NSA', 'FXXR_NSA', 'FXXR_VT10', 'INFTEFF_NSA',\n",
       "       'INTRGDP_NSA_P1M1ML12_3MMA', 'INTRGDPv5Y_NSA_P1M1ML12_3MMA',\n",
       "       'PCREDITBN_SJA_P1M1ML12', 'PCREDITGDP_SJA_D1M1ML12',\n",
       "       'RGDP_SA_P1Q1QL4_20QMA', 'RYLDIRS02Y_NSA', 'RYLDIRS05Y_NSA'],\n",
       "      dtype=object)"
      ]
     },
     "metadata": {},
     "output_type": "display_data"
    },
    {
     "data": {
      "text/plain": [
       "array(['AUD', 'CAD', 'CHF', 'CLP', 'COP', 'CZK', 'EUR', 'GBP', 'HUF',\n",
       "       'IDR', 'ILS', 'INR', 'JPY', 'KRW', 'MXN', 'NOK', 'NZD', 'PLN',\n",
       "       'SEK', 'THB', 'TRY', 'TWD', 'USD', 'ZAR'], dtype=object)"
      ]
     },
     "metadata": {},
     "output_type": "display_data"
    },
    {
     "data": {
      "text/html": [
       "<div>\n",
       "<style scoped>\n",
       "    .dataframe tbody tr th:only-of-type {\n",
       "        vertical-align: middle;\n",
       "    }\n",
       "\n",
       "    .dataframe tbody tr th {\n",
       "        vertical-align: top;\n",
       "    }\n",
       "\n",
       "    .dataframe thead th {\n",
       "        text-align: right;\n",
       "    }\n",
       "</style>\n",
       "<table border=\"1\" class=\"dataframe\">\n",
       "  <thead>\n",
       "    <tr style=\"text-align: right;\">\n",
       "      <th></th>\n",
       "      <th>real_date</th>\n",
       "      <th>cid</th>\n",
       "      <th>xcat</th>\n",
       "      <th>value</th>\n",
       "      <th>grading</th>\n",
       "      <th>eop_lag</th>\n",
       "      <th>mop_lag</th>\n",
       "      <th>ticker</th>\n",
       "    </tr>\n",
       "  </thead>\n",
       "  <tbody>\n",
       "    <tr>\n",
       "      <th>0</th>\n",
       "      <td>2000-01-03</td>\n",
       "      <td>AUD</td>\n",
       "      <td>CPIC_SA_P1M1ML12</td>\n",
       "      <td>1.244168</td>\n",
       "      <td>2.0</td>\n",
       "      <td>95.0</td>\n",
       "      <td>292.0</td>\n",
       "      <td>AUD_CPIC_SA_P1M1ML12</td>\n",
       "    </tr>\n",
       "    <tr>\n",
       "      <th>1</th>\n",
       "      <td>2000-01-04</td>\n",
       "      <td>AUD</td>\n",
       "      <td>CPIC_SA_P1M1ML12</td>\n",
       "      <td>1.244168</td>\n",
       "      <td>2.0</td>\n",
       "      <td>96.0</td>\n",
       "      <td>293.0</td>\n",
       "      <td>AUD_CPIC_SA_P1M1ML12</td>\n",
       "    </tr>\n",
       "    <tr>\n",
       "      <th>2</th>\n",
       "      <td>2000-01-05</td>\n",
       "      <td>AUD</td>\n",
       "      <td>CPIC_SA_P1M1ML12</td>\n",
       "      <td>1.244168</td>\n",
       "      <td>2.0</td>\n",
       "      <td>97.0</td>\n",
       "      <td>294.0</td>\n",
       "      <td>AUD_CPIC_SA_P1M1ML12</td>\n",
       "    </tr>\n",
       "  </tbody>\n",
       "</table>\n",
       "</div>"
      ],
      "text/plain": [
       "   real_date  cid              xcat     value  grading  eop_lag  mop_lag  \\\n",
       "0 2000-01-03  AUD  CPIC_SA_P1M1ML12  1.244168      2.0     95.0    292.0   \n",
       "1 2000-01-04  AUD  CPIC_SA_P1M1ML12  1.244168      2.0     96.0    293.0   \n",
       "2 2000-01-05  AUD  CPIC_SA_P1M1ML12  1.244168      2.0     97.0    294.0   \n",
       "\n",
       "                 ticker  \n",
       "0  AUD_CPIC_SA_P1M1ML12  \n",
       "1  AUD_CPIC_SA_P1M1ML12  \n",
       "2  AUD_CPIC_SA_P1M1ML12  "
      ]
     },
     "execution_count": 25,
     "metadata": {},
     "output_type": "execute_result"
    }
   ],
   "source": [
    "display(df['xcat'].unique())\n",
    "display(df['cid'].unique())\n",
    "df['ticker'] = df['cid'] + '_' + df['xcat']\n",
    "df.head(3)"
   ]
  },
  {
   "cell_type": "code",
   "execution_count": 26,
   "metadata": {},
   "outputs": [
    {
     "data": {
      "image/png": "[encoded data removed]",
      "text/plain": [
       "<Figure size 1200x600 with 1 Axes>"
      ]
     },
     "metadata": {},
     "output_type": "display_data"
    },
    {
     "ename": "ValueError",
     "evalue": "`xcat_labels` must have same length as `xcats` (or one extra label if `cs_mean` is True).",
     "output_type": "error",
     "traceback": [
      "\u001b[0;31m---------------------------------------------------------------------------\u001b[0m",
      "\u001b[0;31mValueError\u001b[0m                                Traceback (most recent call last)",
      "Cell \u001b[0;32mIn[26], line 13\u001b[0m\n\u001b[1;32m      1\u001b[0m xcatx \u001b[38;5;241m=\u001b[39m [\u001b[38;5;124m'\u001b[39m\u001b[38;5;124mINTRGDPv5Y_NSA_P1M1ML12_3MMA\u001b[39m\u001b[38;5;124m'\u001b[39m]\n\u001b[1;32m      3\u001b[0m msp\u001b[38;5;241m.\u001b[39mview_ranges(\n\u001b[1;32m      4\u001b[0m     df,\n\u001b[1;32m      5\u001b[0m     cids\u001b[38;5;241m=\u001b[39mcids,\n\u001b[0;32m   (...)\u001b[0m\n\u001b[1;32m     11\u001b[0m     start\u001b[38;5;241m=\u001b[39m\u001b[38;5;124m'\u001b[39m\u001b[38;5;124m2000-01-01\u001b[39m\u001b[38;5;124m'\u001b[39m,\n\u001b[1;32m     12\u001b[0m )\n\u001b[0;32m---> 13\u001b[0m \u001b[43mmsp\u001b[49m\u001b[38;5;241;43m.\u001b[39;49m\u001b[43mview_timelines\u001b[49m\u001b[43m(\u001b[49m\n\u001b[1;32m     14\u001b[0m \u001b[43m    \u001b[49m\u001b[43mdf\u001b[49m\u001b[43m,\u001b[49m\n\u001b[1;32m     15\u001b[0m \u001b[43m    \u001b[49m\u001b[43mxcats\u001b[49m\u001b[38;5;241;43m=\u001b[39;49m\u001b[43mxcatx\u001b[49m\u001b[43m,\u001b[49m\n\u001b[1;32m     16\u001b[0m \u001b[43m    \u001b[49m\u001b[43mcids\u001b[49m\u001b[38;5;241;43m=\u001b[39;49m\u001b[43mcids\u001b[49m\u001b[43m,\u001b[49m\n\u001b[1;32m     17\u001b[0m \u001b[43m    \u001b[49m\u001b[43mncol\u001b[49m\u001b[38;5;241;43m=\u001b[39;49m\u001b[38;5;241;43m4\u001b[39;49m\u001b[43m,\u001b[49m\n\u001b[1;32m     18\u001b[0m \u001b[43m    \u001b[49m\u001b[43mcumsum\u001b[49m\u001b[38;5;241;43m=\u001b[39;49m\u001b[38;5;28;43;01mFalse\u001b[39;49;00m\u001b[43m,\u001b[49m\n\u001b[1;32m     19\u001b[0m \u001b[43m    \u001b[49m\u001b[43mstart\u001b[49m\u001b[38;5;241;43m=\u001b[39;49m\u001b[38;5;124;43m\"\u001b[39;49m\u001b[38;5;124;43m2000-01-01\u001b[39;49m\u001b[38;5;124;43m\"\u001b[39;49m\u001b[43m,\u001b[49m\n\u001b[1;32m     20\u001b[0m \u001b[43m    \u001b[49m\u001b[43msame_y\u001b[49m\u001b[38;5;241;43m=\u001b[39;49m\u001b[38;5;28;43;01mFalse\u001b[39;49;00m\u001b[43m,\u001b[49m\n\u001b[1;32m     21\u001b[0m \u001b[43m    \u001b[49m\u001b[43maspect\u001b[49m\u001b[38;5;241;43m=\u001b[39;49m\u001b[38;5;241;43m1.75\u001b[39;49m\u001b[43m,\u001b[49m\n\u001b[1;32m     22\u001b[0m \u001b[43m    \u001b[49m\u001b[43msize\u001b[49m\u001b[38;5;241;43m=\u001b[39;49m\u001b[43m(\u001b[49m\u001b[38;5;241;43m12\u001b[39;49m\u001b[43m,\u001b[49m\u001b[43m \u001b[49m\u001b[38;5;241;43m12\u001b[39;49m\u001b[43m)\u001b[49m\u001b[43m,\u001b[49m\n\u001b[1;32m     23\u001b[0m \u001b[43m    \u001b[49m\u001b[43mall_xticks\u001b[49m\u001b[38;5;241;43m=\u001b[39;49m\u001b[38;5;28;43;01mFalse\u001b[39;49;00m\u001b[43m,\u001b[49m\n\u001b[1;32m     24\u001b[0m \u001b[43m    \u001b[49m\u001b[43mtitle_adj\u001b[49m\u001b[38;5;241;43m=\u001b[39;49m\u001b[38;5;241;43m1.02\u001b[39;49m\u001b[43m,\u001b[49m\n\u001b[1;32m     25\u001b[0m \u001b[43m    \u001b[49m\u001b[43mlabel_adj\u001b[49m\u001b[38;5;241;43m=\u001b[39;49m\u001b[38;5;241;43m0.05\u001b[39;49m\u001b[43m,\u001b[49m\n\u001b[1;32m     26\u001b[0m \u001b[43m    \u001b[49m\u001b[43mtitle\u001b[49m\u001b[38;5;241;43m=\u001b[39;49m\u001b[38;5;124;43m\"\u001b[39;49m\u001b[38;5;124;43mLatest economic growth trend (intuitive quantamental measure) in excess of 5-year median, \u001b[39;49m\u001b[38;5;132;43;01m% o\u001b[39;49;00m\u001b[38;5;124;43mya, 3-month average\u001b[39;49m\u001b[38;5;124;43m\"\u001b[39;49m\u001b[43m,\u001b[49m\n\u001b[1;32m     27\u001b[0m \u001b[43m    \u001b[49m\u001b[43mxcat_labels\u001b[49m\u001b[38;5;241;43m=\u001b[39;49m\u001b[43m[\u001b[49m\u001b[38;5;124;43m\"\u001b[39;49m\u001b[38;5;132;43;01m% o\u001b[39;49;00m\u001b[38;5;124;43mver a year ago\u001b[39;49m\u001b[38;5;124;43m\"\u001b[39;49m\u001b[43m,\u001b[49m\u001b[43m \u001b[49m\u001b[38;5;124;43m\"\u001b[39;49m\u001b[38;5;124;43m%\u001b[39;49m\u001b[38;5;124;43m 6m/6m, saar\u001b[39;49m\u001b[38;5;124;43m\"\u001b[39;49m\u001b[43m,\u001b[49m\u001b[43m \u001b[49m\u001b[38;5;124;43m\"\u001b[39;49m\u001b[38;5;124;43m%\u001b[39;49m\u001b[38;5;124;43m 3m/3m, saar\u001b[39;49m\u001b[38;5;124;43m\"\u001b[39;49m\u001b[43m]\u001b[49m\u001b[43m,\u001b[49m\n\u001b[1;32m     28\u001b[0m \u001b[43m)\u001b[49m\n",
      "File \u001b[0;32m~/miniforge3/envs/ai/lib/python3.9/site-packages/macrosynergy/panel/view_timelines.py:82\u001b[0m, in \u001b[0;36mview_timelines\u001b[0;34m(df, xcats, cids, intersect, val, cumsum, start, end, ncol, legend_ncol, same_y, all_xticks, xcat_grid, xcat_labels, single_chart, label_adj, title, title_adj, title_xadj, title_fontsize, cs_mean, size, aspect, height, legend_fontsize)\u001b[0m\n\u001b[1;32m     13\u001b[0m \u001b[38;5;28;01mdef\u001b[39;00m \u001b[38;5;21mview_timelines\u001b[39m(\n\u001b[1;32m     14\u001b[0m     df: pd\u001b[38;5;241m.\u001b[39mDataFrame,\n\u001b[1;32m     15\u001b[0m     xcats: Optional[List[\u001b[38;5;28mstr\u001b[39m]] \u001b[38;5;241m=\u001b[39m \u001b[38;5;28;01mNone\u001b[39;00m,\n\u001b[0;32m   (...)\u001b[0m\n\u001b[1;32m     38\u001b[0m     legend_fontsize: \u001b[38;5;28mint\u001b[39m \u001b[38;5;241m=\u001b[39m \u001b[38;5;241m12\u001b[39m,\n\u001b[1;32m     39\u001b[0m ):\n\u001b[1;32m     40\u001b[0m \u001b[38;5;250m    \u001b[39m\u001b[38;5;124;03m\"\"\"Displays a facet grid of time line charts of one or more categories.\u001b[39;00m\n\u001b[1;32m     41\u001b[0m \n\u001b[1;32m     42\u001b[0m \u001b[38;5;124;03m    :param <pd.Dataframe> df: standardized DataFrame with the necessary columns:\u001b[39;00m\n\u001b[0;32m   (...)\u001b[0m\n\u001b[1;32m     80\u001b[0m \n\u001b[1;32m     81\u001b[0m \u001b[38;5;124;03m    \"\"\"\u001b[39;00m\n\u001b[0;32m---> 82\u001b[0m     \u001b[43mmsv\u001b[49m\u001b[38;5;241;43m.\u001b[39;49m\u001b[43mtimelines\u001b[49m\u001b[43m(\u001b[49m\n\u001b[1;32m     83\u001b[0m \u001b[43m        \u001b[49m\u001b[43mdf\u001b[49m\u001b[38;5;241;43m=\u001b[39;49m\u001b[43mdf\u001b[49m\u001b[43m,\u001b[49m\n\u001b[1;32m     84\u001b[0m \u001b[43m        \u001b[49m\u001b[43mxcats\u001b[49m\u001b[38;5;241;43m=\u001b[39;49m\u001b[43mxcats\u001b[49m\u001b[43m,\u001b[49m\n\u001b[1;32m     85\u001b[0m \u001b[43m        \u001b[49m\u001b[43mcids\u001b[49m\u001b[38;5;241;43m=\u001b[39;49m\u001b[43mcids\u001b[49m\u001b[43m,\u001b[49m\n\u001b[1;32m     86\u001b[0m \u001b[43m        \u001b[49m\u001b[43mintersect\u001b[49m\u001b[38;5;241;43m=\u001b[39;49m\u001b[43mintersect\u001b[49m\u001b[43m,\u001b[49m\n\u001b[1;32m     87\u001b[0m \u001b[43m        \u001b[49m\u001b[43mval\u001b[49m\u001b[38;5;241;43m=\u001b[39;49m\u001b[43mval\u001b[49m\u001b[43m,\u001b[49m\n\u001b[1;32m     88\u001b[0m \u001b[43m        \u001b[49m\u001b[43mcumsum\u001b[49m\u001b[38;5;241;43m=\u001b[39;49m\u001b[43mcumsum\u001b[49m\u001b[43m,\u001b[49m\n\u001b[1;32m     89\u001b[0m \u001b[43m        \u001b[49m\u001b[43mstart\u001b[49m\u001b[38;5;241;43m=\u001b[39;49m\u001b[43mstart\u001b[49m\u001b[43m,\u001b[49m\n\u001b[1;32m     90\u001b[0m \u001b[43m        \u001b[49m\u001b[43mend\u001b[49m\u001b[38;5;241;43m=\u001b[39;49m\u001b[43mend\u001b[49m\u001b[43m,\u001b[49m\n\u001b[1;32m     91\u001b[0m \u001b[43m        \u001b[49m\u001b[43mncol\u001b[49m\u001b[38;5;241;43m=\u001b[39;49m\u001b[43mncol\u001b[49m\u001b[43m,\u001b[49m\n\u001b[1;32m     92\u001b[0m \u001b[43m        \u001b[49m\u001b[43msame_y\u001b[49m\u001b[38;5;241;43m=\u001b[39;49m\u001b[43msame_y\u001b[49m\u001b[43m,\u001b[49m\n\u001b[1;32m     93\u001b[0m \u001b[43m        \u001b[49m\u001b[43mall_xticks\u001b[49m\u001b[38;5;241;43m=\u001b[39;49m\u001b[43mall_xticks\u001b[49m\u001b[43m,\u001b[49m\n\u001b[1;32m     94\u001b[0m \u001b[43m        \u001b[49m\u001b[43mxcat_grid\u001b[49m\u001b[38;5;241;43m=\u001b[39;49m\u001b[43mxcat_grid\u001b[49m\u001b[43m,\u001b[49m\n\u001b[1;32m     95\u001b[0m \u001b[43m        \u001b[49m\u001b[43mxcat_labels\u001b[49m\u001b[38;5;241;43m=\u001b[39;49m\u001b[43mxcat_labels\u001b[49m\u001b[43m,\u001b[49m\n\u001b[1;32m     96\u001b[0m \u001b[43m        \u001b[49m\u001b[43msingle_chart\u001b[49m\u001b[38;5;241;43m=\u001b[39;49m\u001b[43msingle_chart\u001b[49m\u001b[43m,\u001b[49m\n\u001b[1;32m     97\u001b[0m \u001b[43m        \u001b[49m\u001b[43mtitle\u001b[49m\u001b[38;5;241;43m=\u001b[39;49m\u001b[43mtitle\u001b[49m\u001b[43m,\u001b[49m\n\u001b[1;32m     98\u001b[0m \u001b[43m        \u001b[49m\u001b[43mlegend_ncol\u001b[49m\u001b[38;5;241;43m=\u001b[39;49m\u001b[43mlegend_ncol\u001b[49m\u001b[43m,\u001b[49m\n\u001b[1;32m     99\u001b[0m \u001b[43m        \u001b[49m\u001b[43mcs_mean\u001b[49m\u001b[38;5;241;43m=\u001b[39;49m\u001b[43mcs_mean\u001b[49m\u001b[43m,\u001b[49m\n\u001b[1;32m    100\u001b[0m \u001b[43m        \u001b[49m\u001b[43mtitle_fontsize\u001b[49m\u001b[38;5;241;43m=\u001b[39;49m\u001b[43mtitle_fontsize\u001b[49m\u001b[43m,\u001b[49m\n\u001b[1;32m    101\u001b[0m \u001b[43m        \u001b[49m\u001b[43mlegend_fontsize\u001b[49m\u001b[38;5;241;43m=\u001b[39;49m\u001b[43mlegend_fontsize\u001b[49m\u001b[43m,\u001b[49m\n\u001b[1;32m    102\u001b[0m \u001b[43m        \u001b[49m\u001b[38;5;66;43;03m# HC Params\u001b[39;49;00m\n\u001b[1;32m    103\u001b[0m \u001b[43m        \u001b[49m\u001b[43maspect\u001b[49m\u001b[38;5;241;43m=\u001b[39;49m\u001b[43maspect\u001b[49m\u001b[43m,\u001b[49m\n\u001b[1;32m    104\u001b[0m \u001b[43m        \u001b[49m\u001b[43mtitle_adj\u001b[49m\u001b[38;5;241;43m=\u001b[39;49m\u001b[43mtitle_adj\u001b[49m\u001b[43m,\u001b[49m\n\u001b[1;32m    105\u001b[0m \u001b[43m        \u001b[49m\u001b[43mheight\u001b[49m\u001b[38;5;241;43m=\u001b[39;49m\u001b[43mheight\u001b[49m\u001b[43m,\u001b[49m\n\u001b[1;32m    106\u001b[0m \u001b[43m        \u001b[49m\u001b[43msize\u001b[49m\u001b[38;5;241;43m=\u001b[39;49m\u001b[43msize\u001b[49m\u001b[43m,\u001b[49m\n\u001b[1;32m    107\u001b[0m \u001b[43m        \u001b[49m\u001b[43mlabel_adj\u001b[49m\u001b[38;5;241;43m=\u001b[39;49m\u001b[43mlabel_adj\u001b[49m\u001b[43m,\u001b[49m\n\u001b[1;32m    108\u001b[0m \u001b[43m        \u001b[49m\u001b[43mtitle_xadj\u001b[49m\u001b[38;5;241;43m=\u001b[39;49m\u001b[43mtitle_xadj\u001b[49m\u001b[43m,\u001b[49m\n\u001b[1;32m    109\u001b[0m \u001b[43m    \u001b[49m\u001b[43m)\u001b[49m\n",
      "File \u001b[0;32m~/miniforge3/envs/ai/lib/python3.9/site-packages/macrosynergy/visuals/timelines.py:187\u001b[0m, in \u001b[0;36mtimelines\u001b[0;34m(df, xcats, cids, intersect, val, cumsum, start, end, ncol, square_grid, legend_ncol, same_y, all_xticks, xcat_grid, xcat_labels, single_chart, label_adj, title, title_adj, title_xadj, title_fontsize, cs_mean, size, aspect, height, legend_fontsize)\u001b[0m\n\u001b[1;32m    182\u001b[0m \u001b[38;5;28;01mif\u001b[39;00m xcat_labels:\n\u001b[1;32m    183\u001b[0m     \u001b[38;5;66;03m# when `cs_mean` is True, `xcat_labels` may have one extra label\u001b[39;00m\n\u001b[1;32m    184\u001b[0m     \u001b[38;5;28;01mif\u001b[39;00m \u001b[38;5;28mlen\u001b[39m(xcat_labels) \u001b[38;5;241m!=\u001b[39m \u001b[38;5;28mlen\u001b[39m(xcats) \u001b[38;5;129;01mand\u001b[39;00m \u001b[38;5;28mlen\u001b[39m(xcat_labels) \u001b[38;5;241m!=\u001b[39m \u001b[38;5;28mlen\u001b[39m(xcats) \u001b[38;5;241m+\u001b[39m \u001b[38;5;28mint\u001b[39m(\n\u001b[1;32m    185\u001b[0m         cs_mean\n\u001b[1;32m    186\u001b[0m     ):\n\u001b[0;32m--> 187\u001b[0m         \u001b[38;5;28;01mraise\u001b[39;00m \u001b[38;5;167;01mValueError\u001b[39;00m(\n\u001b[1;32m    188\u001b[0m             \u001b[38;5;124m\"\u001b[39m\u001b[38;5;124m`xcat_labels` must have same length as `xcats` \u001b[39m\u001b[38;5;124m\"\u001b[39m\n\u001b[1;32m    189\u001b[0m             \u001b[38;5;124m\"\u001b[39m\u001b[38;5;124m(or one extra label if `cs_mean` is True).\u001b[39m\u001b[38;5;124m\"\u001b[39m\n\u001b[1;32m    190\u001b[0m         )\n\u001b[1;32m    192\u001b[0m \u001b[38;5;28;01mif\u001b[39;00m cs_mean:\n\u001b[1;32m    193\u001b[0m     \u001b[38;5;28;01mif\u001b[39;00m xcat_labels \u001b[38;5;129;01mis\u001b[39;00m \u001b[38;5;28;01mNone\u001b[39;00m:\n",
      "\u001b[0;31mValueError\u001b[0m: `xcat_labels` must have same length as `xcats` (or one extra label if `cs_mean` is True)."
     ]
    }
   ],
   "source": [
    "xcatx = ['INTRGDPv5Y_NSA_P1M1ML12_3MMA']\n",
    "\n",
    "msp.view_ranges(\n",
    "    df,\n",
    "    cids=cids,\n",
    "    xcats=xcatx,\n",
    "    size=(12,6),\n",
    "    kind='bar',\n",
    "    sort_cids_by='mean',\n",
    "    ylab='% daily rate',\n",
    "    start='2000-01-01',\n",
    ")\n",
    "msp.view_timelines(\n",
    "    df,\n",
    "    xcats=xcatx,\n",
    "    cids=cids,\n",
    "    ncol=4,\n",
    "    cumsum=False,\n",
    "    start=\"2000-01-01\",\n",
    "    same_y=False,\n",
    "    aspect=1.75,\n",
    "    size=(12, 12),\n",
    "    all_xticks=False,\n",
    "    title_adj=1.02,\n",
    "    label_adj=0.05,\n",
    "    title=\"Latest economic growth trend (intuitive quantamental measure) in excess of 5-year median, % oya, 3-month average\",\n",
    "    xcat_labels=[\"% over a year ago\", \"% 6m/6m, saar\", \"% 3m/3m, saar\"],\n",
    ")"
   ]
  },
  {
   "cell_type": "code",
   "execution_count": 28,
   "metadata": {},
   "outputs": [],
   "source": [
    "xcatx = ['INFTEFF_NSA']\n",
    "filt1=df['xcat'].isin(xcatx)\n",
    "dfb=df[filt1]\n",
    "\n",
    "infs = [\n",
    "    \"CPIC_SJA_P6M6ML6AR\",\n",
    "]\n",
    "\n",
    "for inf in infs:\n",
    "    calcs = [\n",
    "        f\"{inf}vIT = ( {inf} - INFTEFF_NSA )\",\n",
    "     ]\n",
    "dfa = msp.panel_calculator(df, calcs, cids=cids)\n",
    "df = msm.update_df(df, dfa)"
   ]
  },
  {
   "cell_type": "code",
   "execution_count": 29,
   "metadata": {},
   "outputs": [
    {
     "data": {
      "image/png": "[encoded data removed]",
      "text/plain": [
       "<Figure size 1200x600 with 1 Axes>"
      ]
     },
     "metadata": {},
     "output_type": "display_data"
    },
    {
     "ename": "ValueError",
     "evalue": "`xcat_labels` must have same length as `xcats` (or one extra label if `cs_mean` is True).",
     "output_type": "error",
     "traceback": [
      "\u001b[0;31m---------------------------------------------------------------------------\u001b[0m",
      "\u001b[0;31mValueError\u001b[0m                                Traceback (most recent call last)",
      "Cell \u001b[0;32mIn[29], line 13\u001b[0m\n\u001b[1;32m      1\u001b[0m xcatx \u001b[38;5;241m=\u001b[39m [\u001b[38;5;124m\"\u001b[39m\u001b[38;5;124mCPIC_SJA_P6M6ML6ARvIT\u001b[39m\u001b[38;5;124m\"\u001b[39m]\n\u001b[1;32m      3\u001b[0m msp\u001b[38;5;241m.\u001b[39mview_ranges( \n\u001b[1;32m      4\u001b[0m     df,\n\u001b[1;32m      5\u001b[0m     cids\u001b[38;5;241m=\u001b[39mcids,\n\u001b[0;32m   (...)\u001b[0m\n\u001b[1;32m     11\u001b[0m     start\u001b[38;5;241m=\u001b[39m\u001b[38;5;124m\"\u001b[39m\u001b[38;5;124m2000-01-01\u001b[39m\u001b[38;5;124m\"\u001b[39m,\n\u001b[1;32m     12\u001b[0m )\n\u001b[0;32m---> 13\u001b[0m \u001b[43mmsp\u001b[49m\u001b[38;5;241;43m.\u001b[39;49m\u001b[43mview_timelines\u001b[49m\u001b[43m(\u001b[49m\n\u001b[1;32m     14\u001b[0m \u001b[43m    \u001b[49m\u001b[43mdf\u001b[49m\u001b[43m,\u001b[49m\n\u001b[1;32m     15\u001b[0m \u001b[43m    \u001b[49m\u001b[43mxcats\u001b[49m\u001b[38;5;241;43m=\u001b[39;49m\u001b[43mxcatx\u001b[49m\u001b[43m,\u001b[49m\n\u001b[1;32m     16\u001b[0m \u001b[43m    \u001b[49m\u001b[43mcids\u001b[49m\u001b[38;5;241;43m=\u001b[39;49m\u001b[43mcids\u001b[49m\u001b[43m,\u001b[49m\n\u001b[1;32m     17\u001b[0m \u001b[43m    \u001b[49m\u001b[43mncol\u001b[49m\u001b[38;5;241;43m=\u001b[39;49m\u001b[38;5;241;43m4\u001b[39;49m\u001b[43m,\u001b[49m\n\u001b[1;32m     18\u001b[0m \u001b[43m    \u001b[49m\u001b[43mcumsum\u001b[49m\u001b[38;5;241;43m=\u001b[39;49m\u001b[38;5;28;43;01mFalse\u001b[39;49;00m\u001b[43m,\u001b[49m\n\u001b[1;32m     19\u001b[0m \u001b[43m    \u001b[49m\u001b[43mstart\u001b[49m\u001b[38;5;241;43m=\u001b[39;49m\u001b[38;5;124;43m\"\u001b[39;49m\u001b[38;5;124;43m2000-01-01\u001b[39;49m\u001b[38;5;124;43m\"\u001b[39;49m\u001b[43m,\u001b[49m\n\u001b[1;32m     20\u001b[0m \u001b[43m    \u001b[49m\u001b[43msame_y\u001b[49m\u001b[38;5;241;43m=\u001b[39;49m\u001b[38;5;28;43;01mFalse\u001b[39;49;00m\u001b[43m,\u001b[49m\n\u001b[1;32m     21\u001b[0m \u001b[43m    \u001b[49m\u001b[43maspect\u001b[49m\u001b[38;5;241;43m=\u001b[39;49m\u001b[38;5;241;43m1.75\u001b[39;49m\u001b[43m,\u001b[49m\n\u001b[1;32m     22\u001b[0m \u001b[43m    \u001b[49m\u001b[43msize\u001b[49m\u001b[38;5;241;43m=\u001b[39;49m\u001b[43m(\u001b[49m\u001b[38;5;241;43m12\u001b[39;49m\u001b[43m,\u001b[49m\u001b[43m \u001b[49m\u001b[38;5;241;43m12\u001b[39;49m\u001b[43m)\u001b[49m\u001b[43m,\u001b[49m\n\u001b[1;32m     23\u001b[0m \u001b[43m    \u001b[49m\u001b[43mall_xticks\u001b[49m\u001b[38;5;241;43m=\u001b[39;49m\u001b[38;5;28;43;01mFalse\u001b[39;49;00m\u001b[43m,\u001b[49m\n\u001b[1;32m     24\u001b[0m \u001b[43m    \u001b[49m\u001b[43mtitle_adj\u001b[49m\u001b[38;5;241;43m=\u001b[39;49m\u001b[38;5;241;43m1.02\u001b[39;49m\u001b[43m,\u001b[49m\n\u001b[1;32m     25\u001b[0m \u001b[43m    \u001b[49m\u001b[43mlabel_adj\u001b[49m\u001b[38;5;241;43m=\u001b[39;49m\u001b[38;5;241;43m0.05\u001b[39;49m\u001b[43m,\u001b[49m\n\u001b[1;32m     26\u001b[0m \u001b[43m    \u001b[49m\u001b[43mtitle\u001b[49m\u001b[38;5;241;43m=\u001b[39;49m\u001b[38;5;124;43m\"\u001b[39;49m\u001b[38;5;124;43mCPI inflation rates, \u001b[39;49m\u001b[38;5;132;43;01m%a\u001b[39;49;00m\u001b[38;5;124;43mr, versus effective inflation target, market information state\u001b[39;49m\u001b[38;5;124;43m\"\u001b[39;49m\u001b[43m,\u001b[49m\n\u001b[1;32m     27\u001b[0m \u001b[43m    \u001b[49m\u001b[43mxcat_labels\u001b[49m\u001b[38;5;241;43m=\u001b[39;49m\u001b[43m[\u001b[49m\u001b[38;5;124;43m\"\u001b[39;49m\u001b[38;5;132;43;01m% o\u001b[39;49;00m\u001b[38;5;124;43mver a year ago\u001b[39;49m\u001b[38;5;124;43m\"\u001b[39;49m\u001b[43m,\u001b[49m\u001b[43m \u001b[49m\u001b[38;5;124;43m\"\u001b[39;49m\u001b[38;5;124;43m%\u001b[39;49m\u001b[38;5;124;43m 6m/6m, saar\u001b[39;49m\u001b[38;5;124;43m\"\u001b[39;49m\u001b[43m,\u001b[49m\u001b[43m \u001b[49m\u001b[38;5;124;43m\"\u001b[39;49m\u001b[38;5;124;43m%\u001b[39;49m\u001b[38;5;124;43m 3m/3m, saar\u001b[39;49m\u001b[38;5;124;43m\"\u001b[39;49m\u001b[43m]\u001b[49m\u001b[43m,\u001b[49m\n\u001b[1;32m     28\u001b[0m \u001b[43m)\u001b[49m\n",
      "File \u001b[0;32m~/miniforge3/envs/ai/lib/python3.9/site-packages/macrosynergy/panel/view_timelines.py:82\u001b[0m, in \u001b[0;36mview_timelines\u001b[0;34m(df, xcats, cids, intersect, val, cumsum, start, end, ncol, legend_ncol, same_y, all_xticks, xcat_grid, xcat_labels, single_chart, label_adj, title, title_adj, title_xadj, title_fontsize, cs_mean, size, aspect, height, legend_fontsize)\u001b[0m\n\u001b[1;32m     13\u001b[0m \u001b[38;5;28;01mdef\u001b[39;00m \u001b[38;5;21mview_timelines\u001b[39m(\n\u001b[1;32m     14\u001b[0m     df: pd\u001b[38;5;241m.\u001b[39mDataFrame,\n\u001b[1;32m     15\u001b[0m     xcats: Optional[List[\u001b[38;5;28mstr\u001b[39m]] \u001b[38;5;241m=\u001b[39m \u001b[38;5;28;01mNone\u001b[39;00m,\n\u001b[0;32m   (...)\u001b[0m\n\u001b[1;32m     38\u001b[0m     legend_fontsize: \u001b[38;5;28mint\u001b[39m \u001b[38;5;241m=\u001b[39m \u001b[38;5;241m12\u001b[39m,\n\u001b[1;32m     39\u001b[0m ):\n\u001b[1;32m     40\u001b[0m \u001b[38;5;250m    \u001b[39m\u001b[38;5;124;03m\"\"\"Displays a facet grid of time line charts of one or more categories.\u001b[39;00m\n\u001b[1;32m     41\u001b[0m \n\u001b[1;32m     42\u001b[0m \u001b[38;5;124;03m    :param <pd.Dataframe> df: standardized DataFrame with the necessary columns:\u001b[39;00m\n\u001b[0;32m   (...)\u001b[0m\n\u001b[1;32m     80\u001b[0m \n\u001b[1;32m     81\u001b[0m \u001b[38;5;124;03m    \"\"\"\u001b[39;00m\n\u001b[0;32m---> 82\u001b[0m     \u001b[43mmsv\u001b[49m\u001b[38;5;241;43m.\u001b[39;49m\u001b[43mtimelines\u001b[49m\u001b[43m(\u001b[49m\n\u001b[1;32m     83\u001b[0m \u001b[43m        \u001b[49m\u001b[43mdf\u001b[49m\u001b[38;5;241;43m=\u001b[39;49m\u001b[43mdf\u001b[49m\u001b[43m,\u001b[49m\n\u001b[1;32m     84\u001b[0m \u001b[43m        \u001b[49m\u001b[43mxcats\u001b[49m\u001b[38;5;241;43m=\u001b[39;49m\u001b[43mxcats\u001b[49m\u001b[43m,\u001b[49m\n\u001b[1;32m     85\u001b[0m \u001b[43m        \u001b[49m\u001b[43mcids\u001b[49m\u001b[38;5;241;43m=\u001b[39;49m\u001b[43mcids\u001b[49m\u001b[43m,\u001b[49m\n\u001b[1;32m     86\u001b[0m \u001b[43m        \u001b[49m\u001b[43mintersect\u001b[49m\u001b[38;5;241;43m=\u001b[39;49m\u001b[43mintersect\u001b[49m\u001b[43m,\u001b[49m\n\u001b[1;32m     87\u001b[0m \u001b[43m        \u001b[49m\u001b[43mval\u001b[49m\u001b[38;5;241;43m=\u001b[39;49m\u001b[43mval\u001b[49m\u001b[43m,\u001b[49m\n\u001b[1;32m     88\u001b[0m \u001b[43m        \u001b[49m\u001b[43mcumsum\u001b[49m\u001b[38;5;241;43m=\u001b[39;49m\u001b[43mcumsum\u001b[49m\u001b[43m,\u001b[49m\n\u001b[1;32m     89\u001b[0m \u001b[43m        \u001b[49m\u001b[43mstart\u001b[49m\u001b[38;5;241;43m=\u001b[39;49m\u001b[43mstart\u001b[49m\u001b[43m,\u001b[49m\n\u001b[1;32m     90\u001b[0m \u001b[43m        \u001b[49m\u001b[43mend\u001b[49m\u001b[38;5;241;43m=\u001b[39;49m\u001b[43mend\u001b[49m\u001b[43m,\u001b[49m\n\u001b[1;32m     91\u001b[0m \u001b[43m        \u001b[49m\u001b[43mncol\u001b[49m\u001b[38;5;241;43m=\u001b[39;49m\u001b[43mncol\u001b[49m\u001b[43m,\u001b[49m\n\u001b[1;32m     92\u001b[0m \u001b[43m        \u001b[49m\u001b[43msame_y\u001b[49m\u001b[38;5;241;43m=\u001b[39;49m\u001b[43msame_y\u001b[49m\u001b[43m,\u001b[49m\n\u001b[1;32m     93\u001b[0m \u001b[43m        \u001b[49m\u001b[43mall_xticks\u001b[49m\u001b[38;5;241;43m=\u001b[39;49m\u001b[43mall_xticks\u001b[49m\u001b[43m,\u001b[49m\n\u001b[1;32m     94\u001b[0m \u001b[43m        \u001b[49m\u001b[43mxcat_grid\u001b[49m\u001b[38;5;241;43m=\u001b[39;49m\u001b[43mxcat_grid\u001b[49m\u001b[43m,\u001b[49m\n\u001b[1;32m     95\u001b[0m \u001b[43m        \u001b[49m\u001b[43mxcat_labels\u001b[49m\u001b[38;5;241;43m=\u001b[39;49m\u001b[43mxcat_labels\u001b[49m\u001b[43m,\u001b[49m\n\u001b[1;32m     96\u001b[0m \u001b[43m        \u001b[49m\u001b[43msingle_chart\u001b[49m\u001b[38;5;241;43m=\u001b[39;49m\u001b[43msingle_chart\u001b[49m\u001b[43m,\u001b[49m\n\u001b[1;32m     97\u001b[0m \u001b[43m        \u001b[49m\u001b[43mtitle\u001b[49m\u001b[38;5;241;43m=\u001b[39;49m\u001b[43mtitle\u001b[49m\u001b[43m,\u001b[49m\n\u001b[1;32m     98\u001b[0m \u001b[43m        \u001b[49m\u001b[43mlegend_ncol\u001b[49m\u001b[38;5;241;43m=\u001b[39;49m\u001b[43mlegend_ncol\u001b[49m\u001b[43m,\u001b[49m\n\u001b[1;32m     99\u001b[0m \u001b[43m        \u001b[49m\u001b[43mcs_mean\u001b[49m\u001b[38;5;241;43m=\u001b[39;49m\u001b[43mcs_mean\u001b[49m\u001b[43m,\u001b[49m\n\u001b[1;32m    100\u001b[0m \u001b[43m        \u001b[49m\u001b[43mtitle_fontsize\u001b[49m\u001b[38;5;241;43m=\u001b[39;49m\u001b[43mtitle_fontsize\u001b[49m\u001b[43m,\u001b[49m\n\u001b[1;32m    101\u001b[0m \u001b[43m        \u001b[49m\u001b[43mlegend_fontsize\u001b[49m\u001b[38;5;241;43m=\u001b[39;49m\u001b[43mlegend_fontsize\u001b[49m\u001b[43m,\u001b[49m\n\u001b[1;32m    102\u001b[0m \u001b[43m        \u001b[49m\u001b[38;5;66;43;03m# HC Params\u001b[39;49;00m\n\u001b[1;32m    103\u001b[0m \u001b[43m        \u001b[49m\u001b[43maspect\u001b[49m\u001b[38;5;241;43m=\u001b[39;49m\u001b[43maspect\u001b[49m\u001b[43m,\u001b[49m\n\u001b[1;32m    104\u001b[0m \u001b[43m        \u001b[49m\u001b[43mtitle_adj\u001b[49m\u001b[38;5;241;43m=\u001b[39;49m\u001b[43mtitle_adj\u001b[49m\u001b[43m,\u001b[49m\n\u001b[1;32m    105\u001b[0m \u001b[43m        \u001b[49m\u001b[43mheight\u001b[49m\u001b[38;5;241;43m=\u001b[39;49m\u001b[43mheight\u001b[49m\u001b[43m,\u001b[49m\n\u001b[1;32m    106\u001b[0m \u001b[43m        \u001b[49m\u001b[43msize\u001b[49m\u001b[38;5;241;43m=\u001b[39;49m\u001b[43msize\u001b[49m\u001b[43m,\u001b[49m\n\u001b[1;32m    107\u001b[0m \u001b[43m        \u001b[49m\u001b[43mlabel_adj\u001b[49m\u001b[38;5;241;43m=\u001b[39;49m\u001b[43mlabel_adj\u001b[49m\u001b[43m,\u001b[49m\n\u001b[1;32m    108\u001b[0m \u001b[43m        \u001b[49m\u001b[43mtitle_xadj\u001b[49m\u001b[38;5;241;43m=\u001b[39;49m\u001b[43mtitle_xadj\u001b[49m\u001b[43m,\u001b[49m\n\u001b[1;32m    109\u001b[0m \u001b[43m    \u001b[49m\u001b[43m)\u001b[49m\n",
      "File \u001b[0;32m~/miniforge3/envs/ai/lib/python3.9/site-packages/macrosynergy/visuals/timelines.py:187\u001b[0m, in \u001b[0;36mtimelines\u001b[0;34m(df, xcats, cids, intersect, val, cumsum, start, end, ncol, square_grid, legend_ncol, same_y, all_xticks, xcat_grid, xcat_labels, single_chart, label_adj, title, title_adj, title_xadj, title_fontsize, cs_mean, size, aspect, height, legend_fontsize)\u001b[0m\n\u001b[1;32m    182\u001b[0m \u001b[38;5;28;01mif\u001b[39;00m xcat_labels:\n\u001b[1;32m    183\u001b[0m     \u001b[38;5;66;03m# when `cs_mean` is True, `xcat_labels` may have one extra label\u001b[39;00m\n\u001b[1;32m    184\u001b[0m     \u001b[38;5;28;01mif\u001b[39;00m \u001b[38;5;28mlen\u001b[39m(xcat_labels) \u001b[38;5;241m!=\u001b[39m \u001b[38;5;28mlen\u001b[39m(xcats) \u001b[38;5;129;01mand\u001b[39;00m \u001b[38;5;28mlen\u001b[39m(xcat_labels) \u001b[38;5;241m!=\u001b[39m \u001b[38;5;28mlen\u001b[39m(xcats) \u001b[38;5;241m+\u001b[39m \u001b[38;5;28mint\u001b[39m(\n\u001b[1;32m    185\u001b[0m         cs_mean\n\u001b[1;32m    186\u001b[0m     ):\n\u001b[0;32m--> 187\u001b[0m         \u001b[38;5;28;01mraise\u001b[39;00m \u001b[38;5;167;01mValueError\u001b[39;00m(\n\u001b[1;32m    188\u001b[0m             \u001b[38;5;124m\"\u001b[39m\u001b[38;5;124m`xcat_labels` must have same length as `xcats` \u001b[39m\u001b[38;5;124m\"\u001b[39m\n\u001b[1;32m    189\u001b[0m             \u001b[38;5;124m\"\u001b[39m\u001b[38;5;124m(or one extra label if `cs_mean` is True).\u001b[39m\u001b[38;5;124m\"\u001b[39m\n\u001b[1;32m    190\u001b[0m         )\n\u001b[1;32m    192\u001b[0m \u001b[38;5;28;01mif\u001b[39;00m cs_mean:\n\u001b[1;32m    193\u001b[0m     \u001b[38;5;28;01mif\u001b[39;00m xcat_labels \u001b[38;5;129;01mis\u001b[39;00m \u001b[38;5;28;01mNone\u001b[39;00m:\n",
      "\u001b[0;31mValueError\u001b[0m: `xcat_labels` must have same length as `xcats` (or one extra label if `cs_mean` is True)."
     ]
    }
   ],
   "source": [
    "xcatx = [\"CPIC_SJA_P6M6ML6ARvIT\"]\n",
    "\n",
    "msp.view_ranges( \n",
    "    df,\n",
    "    cids=cids,\n",
    "    xcats=xcatx,\n",
    "    size = (12, 6),\n",
    "    kind=\"bar\",\n",
    "    sort_cids_by=\"mean\",\n",
    "    ylab=\"% daily rate\",\n",
    "    start=\"2000-01-01\",\n",
    ")\n",
    "msp.view_timelines(\n",
    "    df,\n",
    "    xcats=xcatx,\n",
    "    cids=cids,\n",
    "    ncol=4,\n",
    "    cumsum=False,\n",
    "    start=\"2000-01-01\",\n",
    "    same_y=False,\n",
    "    aspect=1.75,\n",
    "    size=(12, 12),\n",
    "    all_xticks=False,\n",
    "    title_adj=1.02,\n",
    "    label_adj=0.05,\n",
    "    title=\"CPI inflation rates, %ar, versus effective inflation target, market information state\",\n",
    "    xcat_labels=[\"% over a year ago\", \"% 6m/6m, saar\", \"% 3m/3m, saar\"],\n",
    ")"
   ]
  },
  {
   "cell_type": "code",
   "execution_count": 27,
   "metadata": {},
   "outputs": [
    {
     "name": "stdout",
     "output_type": "stream",
     "text": [
      "XGCI misses: ['CHF', 'EUR', 'GBP', 'JPY'].\n"
     ]
    },
    {
     "ename": "ValueError",
     "evalue": "The two categories have no shared cross-sections.\nPossible reason(s) for error: XGCI misses: ['CHF', 'EUR', 'GBP', 'JPY'].\nPlease check input parameters.",
     "output_type": "error",
     "traceback": [
      "\u001b[0;31m---------------------------------------------------------------------------\u001b[0m",
      "\u001b[0;31mValueError\u001b[0m                                Traceback (most recent call last)",
      "Cell \u001b[0;32mIn[27], line 1\u001b[0m\n\u001b[0;32m----> 1\u001b[0m cra \u001b[38;5;241m=\u001b[39m \u001b[43mmsp\u001b[49m\u001b[38;5;241;43m.\u001b[39;49m\u001b[43mCategoryRelations\u001b[49m\u001b[43m(\u001b[49m\n\u001b[1;32m      2\u001b[0m \u001b[43m    \u001b[49m\u001b[43mdf\u001b[49m\u001b[43m,\u001b[49m\n\u001b[1;32m      3\u001b[0m \u001b[43m    \u001b[49m\u001b[43mxcats\u001b[49m\u001b[38;5;241;43m=\u001b[39;49m\u001b[43m[\u001b[49m\u001b[38;5;124;43m'\u001b[39;49m\u001b[38;5;124;43mXGCI\u001b[39;49m\u001b[38;5;124;43m'\u001b[39;49m\u001b[43m,\u001b[49m\u001b[43m \u001b[49m\u001b[38;5;124;43m'\u001b[39;49m\u001b[38;5;124;43mDU02YXR_NSA\u001b[39;49m\u001b[38;5;124;43m'\u001b[39;49m\u001b[43m]\u001b[49m\u001b[43m,\u001b[49m\n\u001b[1;32m      4\u001b[0m \u001b[43m    \u001b[49m\u001b[43mcids\u001b[49m\u001b[38;5;241;43m=\u001b[39;49m\u001b[43mcids_dm\u001b[49m\u001b[43m[\u001b[49m\u001b[38;5;241;43m2\u001b[39;49m\u001b[43m:\u001b[49m\u001b[38;5;241;43m6\u001b[39;49m\u001b[43m]\u001b[49m\u001b[43m,\u001b[49m\n\u001b[1;32m      5\u001b[0m \u001b[43m    \u001b[49m\u001b[43mfreq\u001b[49m\u001b[38;5;241;43m=\u001b[39;49m\u001b[38;5;124;43m'\u001b[39;49m\u001b[38;5;124;43mA\u001b[39;49m\u001b[38;5;124;43m'\u001b[39;49m\u001b[43m,\u001b[49m\n\u001b[1;32m      6\u001b[0m \u001b[43m    \u001b[49m\u001b[43mlag\u001b[49m\u001b[38;5;241;43m=\u001b[39;49m\u001b[38;5;241;43m0\u001b[39;49m\u001b[43m,\u001b[49m\n\u001b[1;32m      7\u001b[0m \u001b[43m    \u001b[49m\u001b[43mxcat_aggs\u001b[49m\u001b[38;5;241;43m=\u001b[39;49m\u001b[43m[\u001b[49m\u001b[38;5;124;43m'\u001b[39;49m\u001b[38;5;124;43mmean\u001b[39;49m\u001b[38;5;124;43m'\u001b[39;49m\u001b[43m,\u001b[49m\u001b[43m \u001b[49m\u001b[38;5;124;43m'\u001b[39;49m\u001b[38;5;124;43mmean\u001b[39;49m\u001b[38;5;124;43m'\u001b[39;49m\u001b[43m]\u001b[49m\u001b[43m,\u001b[49m\n\u001b[1;32m      8\u001b[0m \u001b[43m    \u001b[49m\u001b[43mstart\u001b[49m\u001b[38;5;241;43m=\u001b[39;49m\u001b[38;5;124;43m'\u001b[39;49m\u001b[38;5;124;43m2002-01-01\u001b[39;49m\u001b[38;5;124;43m'\u001b[39;49m\u001b[43m,\u001b[49m\n\u001b[1;32m      9\u001b[0m \u001b[43m    \u001b[49m\u001b[43mxcat_trims\u001b[49m\u001b[38;5;241;43m=\u001b[39;49m\u001b[43m[\u001b[49m\u001b[38;5;28;43;01mNone\u001b[39;49;00m\u001b[43m,\u001b[49m\u001b[43m \u001b[49m\u001b[38;5;28;43;01mNone\u001b[39;49;00m\u001b[43m]\u001b[49m\u001b[43m,\u001b[49m\n\u001b[1;32m     10\u001b[0m \u001b[43m)\u001b[49m\n\u001b[1;32m     11\u001b[0m cra\u001b[38;5;241m.\u001b[39mreg_scatter(\n\u001b[1;32m     12\u001b[0m     labels\u001b[38;5;241m=\u001b[39m\u001b[38;5;28;01mTrue\u001b[39;00m,\n\u001b[1;32m     13\u001b[0m     coef_box\u001b[38;5;241m=\u001b[39m\u001b[38;5;124m'\u001b[39m\u001b[38;5;124mupper left\u001b[39m\u001b[38;5;124m'\u001b[39m,\n\u001b[0;32m   (...)\u001b[0m\n\u001b[1;32m     16\u001b[0m     ylab\u001b[38;5;241m=\u001b[39m\u001b[38;5;124m\"\u001b[39m\u001b[38;5;124mStandard 50-day versus 200-day moving average IRS return trend, \u001b[39m\u001b[38;5;124m%\u001b[39m\u001b[38;5;124m\"\u001b[39m,\n\u001b[1;32m     17\u001b[0m )\n",
      "File \u001b[0;32m~/miniforge3/envs/ai/lib/python3.9/site-packages/macrosynergy/panel/category_relations.py:164\u001b[0m, in \u001b[0;36mCategoryRelations.__init__\u001b[0;34m(self, df, xcats, cids, val, start, end, blacklist, years, freq, lag, fwin, xcat_aggs, xcat1_chg, n_periods, xcat_trims, slip)\u001b[0m\n\u001b[1;32m    161\u001b[0m         error_message \u001b[38;5;241m+\u001b[39m\u001b[38;5;241m=\u001b[39m \u001b[38;5;124m\"\u001b[39m\u001b[38;5;130;01m\\n\u001b[39;00m\u001b[38;5;124m\"\u001b[39m\u001b[38;5;241m.\u001b[39mjoin(warnings_list)\n\u001b[1;32m    163\u001b[0m     error_message \u001b[38;5;241m+\u001b[39m\u001b[38;5;241m=\u001b[39m \u001b[38;5;124m\"\u001b[39m\u001b[38;5;130;01m\\n\u001b[39;00m\u001b[38;5;124mPlease check input parameters.\u001b[39m\u001b[38;5;124m\"\u001b[39m\n\u001b[0;32m--> 164\u001b[0m     \u001b[38;5;28;01mraise\u001b[39;00m \u001b[38;5;167;01mValueError\u001b[39;00m(error_message)\n\u001b[1;32m    166\u001b[0m \u001b[38;5;66;03m# Will potentially contain NaN values if the two categories are defined over\u001b[39;00m\n\u001b[1;32m    167\u001b[0m \u001b[38;5;66;03m# time-periods.\u001b[39;00m\n\u001b[1;32m    168\u001b[0m df \u001b[38;5;241m=\u001b[39m categories_df(\n\u001b[1;32m    169\u001b[0m     df,\n\u001b[1;32m    170\u001b[0m     xcats,\n\u001b[0;32m   (...)\u001b[0m\n\u001b[1;32m    180\u001b[0m     xcat_aggs\u001b[38;5;241m=\u001b[39mxcat_aggs,\n\u001b[1;32m    181\u001b[0m )\n",
      "\u001b[0;31mValueError\u001b[0m: The two categories have no shared cross-sections.\nPossible reason(s) for error: XGCI misses: ['CHF', 'EUR', 'GBP', 'JPY'].\nPlease check input parameters."
     ]
    }
   ],
   "source": [
    "cra = msp.CategoryRelations(\n",
    "    df,\n",
    "    xcats=['XGCI', 'DU02YXR_NSA'],\n",
    "    cids=cids_dm[2:6],\n",
    "    freq='A',\n",
    "    lag=0,\n",
    "    xcat_aggs=['mean', 'mean'],\n",
    "    start='2002-01-01',\n",
    "    xcat_trims=[None, None],\n",
    ")\n",
    "cra.reg_scatter(\n",
    "    labels=True,\n",
    "    coef_box='upper left',\n",
    "    title=\"G4: Simple macro trends versus market trends, annual averages, 2002-2022\",\n",
    "    xlab=\"Sum of growth and inflation shortfall trends, %ar\",\n",
    "    ylab=\"Standard 50-day versus 200-day moving average IRS return trend, %\",\n",
    ")"
   ]
  },
  {
   "cell_type": "code",
   "execution_count": null,
   "metadata": {},
   "outputs": [],
   "source": []
  }
 ],
 "metadata": {
  "kernelspec": {
   "display_name": "ai",
   "language": "python",
   "name": "python3"
  },
  "language_info": {
   "codemirror_mode": {
    "name": "ipython",
    "version": 3
   },
   "file_extension": ".py",
   "mimetype": "text/x-python",
   "name": "python",
   "nbconvert_exporter": "python",
   "pygments_lexer": "ipython3",
   "version": "3.9.7"
  }
 },
 "nbformat": 4,
 "nbformat_minor": 2
}
