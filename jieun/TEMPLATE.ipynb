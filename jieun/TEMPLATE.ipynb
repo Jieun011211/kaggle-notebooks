{
 "cells": [
  {
   "cell_type": "code",
   "execution_count": 5,
   "metadata": {},
   "outputs": [],
   "source": [
    "import pandas as pd\n",
    "import matplotlib.pylab as plt\n",
    "import subprocess"
   ]
  },
  {
   "cell_type": "code",
   "execution_count": 3,
   "metadata": {},
   "outputs": [
    {
     "data": {
      "text/html": [
       "<div>\n",
       "<style scoped>\n",
       "    .dataframe tbody tr th:only-of-type {\n",
       "        vertical-align: middle;\n",
       "    }\n",
       "\n",
       "    .dataframe tbody tr th {\n",
       "        vertical-align: top;\n",
       "    }\n",
       "\n",
       "    .dataframe thead th {\n",
       "        text-align: right;\n",
       "    }\n",
       "</style>\n",
       "<table border=\"1\" class=\"dataframe\">\n",
       "  <thead>\n",
       "    <tr style=\"text-align: right;\">\n",
       "      <th></th>\n",
       "      <th>url</th>\n",
       "      <th>download</th>\n",
       "      <th>name</th>\n",
       "    </tr>\n",
       "  </thead>\n",
       "  <tbody>\n",
       "    <tr>\n",
       "      <th>0</th>\n",
       "      <td>https://www.kaggle.com/datasets/andrewmvd/braz...</td>\n",
       "      <td>kaggle datasets download andrewmvd/brazilian-s...</td>\n",
       "      <td>andrewmvd/brazilian-stock-market</td>\n",
       "    </tr>\n",
       "    <tr>\n",
       "      <th>1</th>\n",
       "      <td>https://www.kaggle.com/datasets/zgrcemta/daily...</td>\n",
       "      <td>kaggle datasets download zgrcemta/daily-update...</td>\n",
       "      <td>zgrcemta/daily-updated-exchange-rates2015-now</td>\n",
       "    </tr>\n",
       "    <tr>\n",
       "      <th>2</th>\n",
       "      <td>https://www.kaggle.com/datasets/mushroof/funda...</td>\n",
       "      <td>kaggle datasets download mushroof/fundamental-...</td>\n",
       "      <td>mushroof/fundamental-dataset-of-bangladeshi-st...</td>\n",
       "    </tr>\n",
       "    <tr>\n",
       "      <th>3</th>\n",
       "      <td>https://www.kaggle.com/datasets/nikhil1e9/netf...</td>\n",
       "      <td>kaggle datasets download nikhil1e9/netflix-sto...</td>\n",
       "      <td>nikhil1e9/netflix-stock-price</td>\n",
       "    </tr>\n",
       "    <tr>\n",
       "      <th>4</th>\n",
       "      <td>https://www.kaggle.com/datasets/guillemservera...</td>\n",
       "      <td>kaggle datasets download guillemservera/us-tre...</td>\n",
       "      <td>guillemservera/us-treasury-yields-daily</td>\n",
       "    </tr>\n",
       "  </tbody>\n",
       "</table>\n",
       "</div>"
      ],
      "text/plain": [
       "                                                 url  \\\n",
       "0  https://www.kaggle.com/datasets/andrewmvd/braz...   \n",
       "1  https://www.kaggle.com/datasets/zgrcemta/daily...   \n",
       "2  https://www.kaggle.com/datasets/mushroof/funda...   \n",
       "3  https://www.kaggle.com/datasets/nikhil1e9/netf...   \n",
       "4  https://www.kaggle.com/datasets/guillemservera...   \n",
       "\n",
       "                                            download  \\\n",
       "0  kaggle datasets download andrewmvd/brazilian-s...   \n",
       "1  kaggle datasets download zgrcemta/daily-update...   \n",
       "2  kaggle datasets download mushroof/fundamental-...   \n",
       "3  kaggle datasets download nikhil1e9/netflix-sto...   \n",
       "4  kaggle datasets download guillemservera/us-tre...   \n",
       "\n",
       "                                                name  \n",
       "0                   andrewmvd/brazilian-stock-market  \n",
       "1      zgrcemta/daily-updated-exchange-rates2015-now  \n",
       "2  mushroof/fundamental-dataset-of-bangladeshi-st...  \n",
       "3                      nikhil1e9/netflix-stock-price  \n",
       "4            guillemservera/us-treasury-yields-daily  "
      ]
     },
     "execution_count": 3,
     "metadata": {},
     "output_type": "execute_result"
    }
   ],
   "source": [
    "datasets = pd.read_csv(\"../시계열 데이터셋 목록.csv\")\n",
    "datasets.head()"
   ]
  },
  {
   "cell_type": "code",
   "execution_count": 7,
   "metadata": {},
   "outputs": [
    {
     "name": "stdout",
     "output_type": "stream",
     "text": [
      "../datasets:\n",
      "total 56\n",
      "drwxrwxr-x 14 leejieun leejieun 4096 Mar 27 16:35 .\n",
      "drwxrwxr-x  7 leejieun leejieun 4096 Mar 27 16:36 ..\n",
      "drwxrwxr-x  4 leejieun leejieun 4096 Mar 27 16:34 andrewmvd\n",
      "drwxrwxr-x  3 leejieun leejieun 4096 Mar 27 16:34 crocuta\n",
      "drwxrwxr-x  3 leejieun leejieun 4096 Mar 27 16:35 dhruvshan\n",
      "drwxrwxr-x  3 leejieun leejieun 4096 Mar 27 16:34 guillemservera\n",
      "drwxrwxr-x  3 leejieun leejieun 4096 Mar 27 16:34 kammounmohamedali\n",
      "drwxrwxr-x  3 leejieun leejieun 4096 Mar 27 16:35 kapturovalexander\n",
      "drwxrwxr-x  3 leejieun leejieun 4096 Mar 27 16:35 mrsamcooper\n",
      "drwxrwxr-x  3 leejieun leejieun 4096 Mar 27 16:34 mushroof\n",
      "drwxrwxr-x  3 leejieun leejieun 4096 Mar 27 16:34 nikhil1e9\n",
      "drwxrwxr-x  4 leejieun leejieun 4096 Mar 27 16:38 olegshpagin\n",
      "drwxrwxr-x  3 leejieun leejieun 4096 Mar 27 16:35 tiwill\n",
      "drwxrwxr-x  3 leejieun leejieun 4096 Mar 27 16:34 zgrcemta\n"
     ]
    },
    {
     "name": "stderr",
     "output_type": "stream",
     "text": [
      "ls: cannot access 'andrewmvd/brazilian-stock-market': No such file or directory\n"
     ]
    },
    {
     "data": {
      "text/plain": [
       "CompletedProcess(args=['ls', '-al', '../datasets', 'andrewmvd/brazilian-stock-market'], returncode=2)"
      ]
     },
     "execution_count": 7,
     "metadata": {},
     "output_type": "execute_result"
    }
   ],
   "source": [
    "cmd = [\"ls\", \"-al\", \"../datasets\"]\n",
    "cmd.append(datasets['name'].values[0])\n",
    "subprocess.run(cmd)"
   ]
  },
  {
   "cell_type": "code",
   "execution_count": null,
   "metadata": {},
   "outputs": [],
   "source": []
  }
 ],
 "metadata": {
  "kernelspec": {
   "display_name": "ai",
   "language": "python",
   "name": "python3"
  },
  "language_info": {
   "codemirror_mode": {
    "name": "ipython",
    "version": 3
   },
   "file_extension": ".py",
   "mimetype": "text/x-python",
   "name": "python",
   "nbconvert_exporter": "python",
   "pygments_lexer": "ipython3",
   "version": "3.12.2"
  }
 },
 "nbformat": 4,
 "nbformat_minor": 2
}
