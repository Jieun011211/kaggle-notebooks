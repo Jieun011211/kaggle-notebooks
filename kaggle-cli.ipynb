{
 "cells": [
  {
   "cell_type": "code",
   "execution_count": 7,
   "metadata": {},
   "outputs": [],
   "source": [
    "import pandas as pd\n",
    "import subprocess\n",
    "df = pd.read_csv(\"./시계열 데이터셋 목록.csv\")"
   ]
  },
  {
   "cell_type": "code",
   "execution_count": 12,
   "metadata": {},
   "outputs": [
    {
     "name": "stdout",
     "output_type": "stream",
     "text": [
      "Downloading brazilian-stock-market.zip to ./datasets/andrewmvd/brazilian-stock-market\n"
     ]
    },
    {
     "name": "stderr",
     "output_type": "stream",
     "text": [
      "100%|██████████| 17.3M/17.3M [00:01<00:00, 10.3MB/s]\n"
     ]
    },
    {
     "name": "stdout",
     "output_type": "stream",
     "text": [
      "\n"
     ]
    },
    {
     "data": {
      "text/plain": [
       "CompletedProcess(args=['kaggle', 'datasets', 'download', 'andrewmvd/brazilian-stock-market', '--unzip', '--force', '--path', './datasets/andrewmvd/brazilian-stock-market'], returncode=0)"
      ]
     },
     "execution_count": 12,
     "metadata": {},
     "output_type": "execute_result"
    }
   ],
   "source": [
    "cmd = df['download'].values[0]\n",
    "cmd.split(' ')\n",
    "subprocess.run(cmd.split(' '))"
   ]
  },
  {
   "cell_type": "code",
   "execution_count": 15,
   "metadata": {},
   "outputs": [
    {
     "name": "stdout",
     "output_type": "stream",
     "text": [
      "Downloading brazilian-stock-market.zip to ./datasets/andrewmvd/brazilian-stock-market\n"
     ]
    },
    {
     "name": "stderr",
     "output_type": "stream",
     "text": [
      "100%|██████████| 17.3M/17.3M [00:01<00:00, 10.2MB/s]\n"
     ]
    },
    {
     "name": "stdout",
     "output_type": "stream",
     "text": [
      "\n",
      "Downloading daily-updated-exchange-rates2015-now.zip to ./datasets/zgrcemta/daily-updated-exchange-rates2015-now\n"
     ]
    },
    {
     "name": "stderr",
     "output_type": "stream",
     "text": [
      "100%|██████████| 832k/832k [00:00<00:00, 2.88MB/s]\n"
     ]
    },
    {
     "name": "stdout",
     "output_type": "stream",
     "text": [
      "\n",
      "Downloading fundamental-dataset-of-bangladeshi-stocks.zip to ./datasets/mushroof/fundamental-dataset-of-bangladeshi-stocks\n"
     ]
    },
    {
     "name": "stderr",
     "output_type": "stream",
     "text": [
      "100%|██████████| 367k/367k [00:00<00:00, 1.49MB/s]\n"
     ]
    },
    {
     "name": "stdout",
     "output_type": "stream",
     "text": [
      "\n",
      "Downloading netflix-stock-price.zip to ./datasets/nikhil1e9/netflix-stock-price\n"
     ]
    },
    {
     "name": "stderr",
     "output_type": "stream",
     "text": [
      "100%|██████████| 1.06M/1.06M [00:00<00:00, 1.72MB/s]\n"
     ]
    },
    {
     "name": "stdout",
     "output_type": "stream",
     "text": [
      "\n",
      "Downloading us-treasury-yields-daily.zip to ./datasets/guillemservera/us-treasury-yields-daily\n"
     ]
    },
    {
     "name": "stderr",
     "output_type": "stream",
     "text": [
      "100%|██████████| 230k/230k [00:00<00:00, 956kB/s]\n"
     ]
    },
    {
     "name": "stdout",
     "output_type": "stream",
     "text": [
      "\n",
      "Downloading sp-500-stocks.zip to ./datasets/andrewmvd/sp-500-stocks\n"
     ]
    },
    {
     "name": "stderr",
     "output_type": "stream",
     "text": [
      "100%|██████████| 42.4M/42.4M [00:04<00:00, 10.9MB/s]\n"
     ]
    },
    {
     "name": "stdout",
     "output_type": "stream",
     "text": [
      "\n",
      "Downloading multi-demand-forecasting.zip to ./datasets/kammounmohamedali/multi-demand-forecasting\n",
      "\n"
     ]
    },
    {
     "name": "stderr",
     "output_type": "stream",
     "text": [
      "100%|██████████| 47.3k/47.3k [00:00<00:00, 5.56MB/s]\n"
     ]
    },
    {
     "name": "stdout",
     "output_type": "stream",
     "text": [
      "Downloading 2010-2023-usdtokgzsom-currency.zip to ./datasets/crocuta/2010-2023-usdtokgzsom-currency\n",
      "\n"
     ]
    },
    {
     "name": "stderr",
     "output_type": "stream",
     "text": [
      "100%|██████████| 20.3k/20.3k [00:00<00:00, 5.00MB/s]\n"
     ]
    },
    {
     "name": "stdout",
     "output_type": "stream",
     "text": [
      "Downloading vinfast-stock-data-all-time.zip to ./datasets/dhruvshan/vinfast-stock-data-all-time\n",
      "\n"
     ]
    },
    {
     "name": "stderr",
     "output_type": "stream",
     "text": [
      "100%|██████████| 3.44k/3.44k [00:00<00:00, 18.5MB/s]\n"
     ]
    },
    {
     "name": "stdout",
     "output_type": "stream",
     "text": [
      "Downloading quacks-incorporated-sales-data.zip to ./datasets/mrsamcooper/quacks-incorporated-sales-data\n",
      "\n"
     ]
    },
    {
     "name": "stderr",
     "output_type": "stream",
     "text": [
      "100%|██████████| 27.7k/27.7k [00:00<00:00, 3.95MB/s]\n"
     ]
    },
    {
     "name": "stdout",
     "output_type": "stream",
     "text": [
      "Downloading epam-company-stock-prices-from-2012-till-2023.zip to ./datasets/kapturovalexander/epam-company-stock-prices-from-2012-till-2023\n"
     ]
    },
    {
     "name": "stderr",
     "output_type": "stream",
     "text": [
      "100%|██████████| 297k/297k [00:00<00:00, 1.24MB/s]\n"
     ]
    },
    {
     "name": "stdout",
     "output_type": "stream",
     "text": [
      "\n",
      "Downloading saham-idx.zip to ./datasets/tiwill/saham-idx\n"
     ]
    },
    {
     "name": "stderr",
     "output_type": "stream",
     "text": [
      "100%|██████████| 30.2M/30.2M [00:03<00:00, 10.4MB/s]\n"
     ]
    },
    {
     "name": "stdout",
     "output_type": "stream",
     "text": [
      "\n",
      "Downloading crypto-coins-prices-ohlcv.zip to ./datasets/olegshpagin/crypto-coins-prices-ohlcv\n"
     ]
    },
    {
     "name": "stderr",
     "output_type": "stream",
     "text": [
      "100%|██████████| 1.65G/1.65G [02:51<00:00, 10.3MB/s]\n"
     ]
    },
    {
     "name": "stdout",
     "output_type": "stream",
     "text": [
      "\n",
      "Downloading usa-stocks-prices-ohlcv.zip to ./datasets/olegshpagin/usa-stocks-prices-ohlcv\n"
     ]
    },
    {
     "name": "stderr",
     "output_type": "stream",
     "text": [
      "100%|██████████| 2.70G/2.70G [04:28<00:00, 10.8MB/s]\n"
     ]
    },
    {
     "name": "stdout",
     "output_type": "stream",
     "text": [
      "\n",
      "Downloading russia-stocks-prices-ohlcv.zip to ./datasets/olegshpagin/russia-stocks-prices-ohlcv\n"
     ]
    },
    {
     "name": "stderr",
     "output_type": "stream",
     "text": [
      "100%|██████████| 606M/606M [00:56<00:00, 11.2MB/s] \n"
     ]
    },
    {
     "name": "stdout",
     "output_type": "stream",
     "text": [
      "\n",
      "Downloading starbucks-stock-price-prediction-dataset.zip to ./datasets/olegshpagin/starbucks-stock-price-prediction-dataset\n"
     ]
    },
    {
     "name": "stderr",
     "output_type": "stream",
     "text": [
      "100%|██████████| 6.05M/6.05M [00:00<00:00, 8.32MB/s]\n"
     ]
    },
    {
     "name": "stdout",
     "output_type": "stream",
     "text": [
      "\n",
      "Downloading walt-disney-company-stock-price-dataset.zip to ./datasets/olegshpagin/walt-disney-company-stock-price-dataset\n"
     ]
    },
    {
     "name": "stderr",
     "output_type": "stream",
     "text": [
      "100%|██████████| 6.24M/6.24M [00:00<00:00, 8.26MB/s]\n"
     ]
    },
    {
     "name": "stdout",
     "output_type": "stream",
     "text": [
      "\n",
      "Downloading netflix-stock-price-prediction-dataset.zip to ./datasets/olegshpagin/netflix-stock-price-prediction-dataset\n"
     ]
    },
    {
     "name": "stderr",
     "output_type": "stream",
     "text": [
      " 91%|█████████ | 6.00M/6.60M [00:00<00:00, 8.42MB/s]"
     ]
    },
    {
     "name": "stdout",
     "output_type": "stream",
     "text": [
      "\n"
     ]
    },
    {
     "name": "stderr",
     "output_type": "stream",
     "text": [
      "100%|██████████| 6.60M/6.60M [00:01<00:00, 6.84MB/s]\n"
     ]
    },
    {
     "name": "stdout",
     "output_type": "stream",
     "text": [
      "Downloading mastercard-stock-price-prediction-dataset.zip to ./datasets/olegshpagin/mastercard-stock-price-prediction-dataset\n"
     ]
    },
    {
     "name": "stderr",
     "output_type": "stream",
     "text": [
      "100%|██████████| 5.97M/5.97M [00:00<00:00, 8.28MB/s]\n"
     ]
    },
    {
     "name": "stdout",
     "output_type": "stream",
     "text": [
      "\n",
      "Downloading exxon-mobil-stock-price-prediction-dataset.zip to ./datasets/olegshpagin/exxon-mobil-stock-price-prediction-dataset\n"
     ]
    },
    {
     "name": "stderr",
     "output_type": "stream",
     "text": [
      "100%|██████████| 6.07M/6.07M [00:01<00:00, 6.25MB/s]\n"
     ]
    },
    {
     "name": "stdout",
     "output_type": "stream",
     "text": [
      "\n",
      "Downloading meta-platforms-inc-stock-price-dataset.zip to ./datasets/olegshpagin/meta-platforms-inc-stock-price-dataset\n"
     ]
    },
    {
     "name": "stderr",
     "output_type": "stream",
     "text": [
      "100%|██████████| 5.29M/5.29M [00:01<00:00, 4.86MB/s]\n"
     ]
    },
    {
     "name": "stdout",
     "output_type": "stream",
     "text": [
      "\n",
      "Downloading nvidia-stock-price-prediction-dataset.zip to ./datasets/olegshpagin/nvidia-stock-price-prediction-dataset\n"
     ]
    },
    {
     "name": "stderr",
     "output_type": "stream",
     "text": [
      "100%|██████████| 5.99M/5.99M [00:00<00:00, 8.36MB/s]\n"
     ]
    },
    {
     "name": "stdout",
     "output_type": "stream",
     "text": [
      "\n",
      "Downloading walmart-inc-stock-price-prediction-dataset.zip to ./datasets/olegshpagin/walmart-inc-stock-price-prediction-dataset\n"
     ]
    },
    {
     "name": "stderr",
     "output_type": "stream",
     "text": [
      "100%|██████████| 6.11M/6.11M [00:00<00:00, 8.00MB/s]\n"
     ]
    },
    {
     "name": "stdout",
     "output_type": "stream",
     "text": [
      "\n",
      "Downloading amazoncom-stock-price-prediction-dataset.zip to ./datasets/olegshpagin/amazoncom-stock-price-prediction-dataset\n"
     ]
    },
    {
     "name": "stderr",
     "output_type": "stream",
     "text": [
      "100%|██████████| 5.88M/5.88M [00:00<00:00, 8.25MB/s]\n"
     ]
    },
    {
     "name": "stdout",
     "output_type": "stream",
     "text": [
      "\n",
      "Downloading alphabet-inc-class-a-stock-price-dataset.zip to ./datasets/olegshpagin/alphabet-inc-class-a-stock-price-dataset\n"
     ]
    },
    {
     "name": "stderr",
     "output_type": "stream",
     "text": [
      "100%|██████████| 5.41M/5.41M [00:00<00:00, 5.93MB/s]\n"
     ]
    },
    {
     "name": "stdout",
     "output_type": "stream",
     "text": [
      "\n",
      "Downloading microsoft-corporation-stock-price-dataset.zip to ./datasets/olegshpagin/microsoft-corporation-stock-price-dataset\n"
     ]
    },
    {
     "name": "stderr",
     "output_type": "stream",
     "text": [
      "100%|██████████| 5.25M/5.25M [00:00<00:00, 7.93MB/s]\n"
     ]
    },
    {
     "name": "stdout",
     "output_type": "stream",
     "text": [
      "\n",
      "Downloading bank-of-america-stock-price-prediction-dataset.zip to ./datasets/olegshpagin/bank-of-america-stock-price-prediction-dataset\n"
     ]
    },
    {
     "name": "stderr",
     "output_type": "stream",
     "text": [
      "100%|██████████| 5.83M/5.83M [00:00<00:00, 8.10MB/s]\n"
     ]
    },
    {
     "name": "stdout",
     "output_type": "stream",
     "text": [
      "\n",
      "Downloading tesla-motors-stock-price-prediction-dataset.zip to ./datasets/olegshpagin/tesla-motors-stock-price-prediction-dataset\n"
     ]
    },
    {
     "name": "stderr",
     "output_type": "stream",
     "text": [
      "100%|██████████| 5.19M/5.19M [00:00<00:00, 7.89MB/s]\n"
     ]
    },
    {
     "name": "stdout",
     "output_type": "stream",
     "text": [
      "\n",
      "Downloading apple-stock-price-prediction-dataset.zip to ./datasets/olegshpagin/apple-stock-price-prediction-dataset\n"
     ]
    },
    {
     "name": "stderr",
     "output_type": "stream",
     "text": [
      " 84%|████████▎ | 5.00M/5.98M [00:01<00:00, 6.76MB/s]"
     ]
    },
    {
     "name": "stdout",
     "output_type": "stream",
     "text": [
      "\n"
     ]
    },
    {
     "name": "stderr",
     "output_type": "stream",
     "text": [
      "100%|██████████| 5.98M/5.98M [00:01<00:00, 5.21MB/s]\n"
     ]
    },
    {
     "name": "stdout",
     "output_type": "stream",
     "text": [
      "Downloading some-comodities-dataset-2017-2023.zip to ./datasets/kingki19/some-comodities-dataset-2017-2023\n"
     ]
    },
    {
     "name": "stderr",
     "output_type": "stream",
     "text": [
      "100%|██████████| 180k/180k [00:00<00:00, 795kB/s]\n"
     ]
    },
    {
     "name": "stdout",
     "output_type": "stream",
     "text": [
      "\n",
      "Downloading analyzing-credit-card-spending-habits-in-india.zip to ./datasets/thedevastator/analyzing-credit-card-spending-habits-in-india\n"
     ]
    },
    {
     "name": "stderr",
     "output_type": "stream",
     "text": [
      "100%|██████████| 319k/319k [00:00<00:00, 1.33MB/s]\n"
     ]
    },
    {
     "name": "stdout",
     "output_type": "stream",
     "text": [
      "\n",
      "Downloading onion-price-dataset.zip to ./datasets/anityagangurde/onion-price-dataset\n",
      "\n"
     ]
    },
    {
     "name": "stderr",
     "output_type": "stream",
     "text": [
      "100%|██████████| 26.6k/26.6k [00:00<00:00, 3.72MB/s]\n"
     ]
    },
    {
     "name": "stdout",
     "output_type": "stream",
     "text": [
      "Downloading moodys-share-prices-from-1994-till-april-2023.zip to ./datasets/kapturovalexander/moodys-share-prices-from-1994-till-april-2023\n"
     ]
    },
    {
     "name": "stderr",
     "output_type": "stream",
     "text": [
      "100%|██████████| 245k/245k [00:00<00:00, 484kB/s]\n"
     ]
    },
    {
     "name": "stdout",
     "output_type": "stream",
     "text": [
      "\n",
      "Downloading tortilla-prices-in-mexico.zip to ./datasets/richave/tortilla-prices-in-mexico\n"
     ]
    },
    {
     "name": "stderr",
     "output_type": "stream",
     "text": [
      "100%|██████████| 1.07M/1.07M [00:00<00:00, 3.55MB/s]\n"
     ]
    },
    {
     "name": "stdout",
     "output_type": "stream",
     "text": [
      "\n",
      "Downloading milano-housing-price.zip to ./datasets/tommasoramella/milano-housing-price\n"
     ]
    },
    {
     "name": "stderr",
     "output_type": "stream",
     "text": [
      "  0%|          | 0.00/612k [00:00<?, ?B/s]"
     ]
    },
    {
     "name": "stdout",
     "output_type": "stream",
     "text": [
      "\n"
     ]
    },
    {
     "name": "stderr",
     "output_type": "stream",
     "text": [
      "100%|██████████| 612k/612k [00:00<00:00, 1.09MB/s]\n"
     ]
    },
    {
     "name": "stdout",
     "output_type": "stream",
     "text": [
      "Downloading gold-us-export-and-import-price-index.zip to ./datasets/craigjalbuquerque/gold-us-export-and-import-price-index\n",
      "\n"
     ]
    },
    {
     "name": "stderr",
     "output_type": "stream",
     "text": [
      "100%|██████████| 4.00k/4.00k [00:00<00:00, 21.3MB/s]\n"
     ]
    },
    {
     "name": "stdout",
     "output_type": "stream",
     "text": [
      "Downloading ibrd-statement-of-loans-historical-data.zip to ./datasets/amirhoseinmousavian/ibrd-statement-of-loans-historical-data\n",
      "\n"
     ]
    },
    {
     "name": "stderr",
     "output_type": "stream",
     "text": [
      "100%|██████████| 6.75k/6.75k [00:00<00:00, 20.4MB/s]\n"
     ]
    },
    {
     "name": "stdout",
     "output_type": "stream",
     "text": [
      "Downloading time-series-uk-supermarket-data.zip to ./datasets/declanmcalinden/time-series-uk-supermarket-data\n"
     ]
    },
    {
     "name": "stderr",
     "output_type": "stream",
     "text": [
      " 99%|█████████▉| 109M/110M [00:10<00:00, 11.6MB/s] "
     ]
    },
    {
     "name": "stdout",
     "output_type": "stream",
     "text": [
      "\n"
     ]
    },
    {
     "name": "stderr",
     "output_type": "stream",
     "text": [
      "100%|██████████| 110M/110M [00:10<00:00, 11.1MB/s]\n"
     ]
    },
    {
     "name": "stdout",
     "output_type": "stream",
     "text": [
      "Downloading cipla-stock-prices-feb19-present-ts.zip to ./datasets/abhinavmangalore/cipla-stock-prices-feb19-present-ts\n",
      "\n"
     ]
    },
    {
     "name": "stderr",
     "output_type": "stream",
     "text": [
      "100%|██████████| 29.4k/29.4k [00:00<00:00, 3.55MB/s]\n"
     ]
    },
    {
     "name": "stdout",
     "output_type": "stream",
     "text": [
      "Downloading gold-price-archive-2010-2023-dataset.zip to ./datasets/ahmadkarrabi/gold-price-archive-2010-2023-dataset\n"
     ]
    },
    {
     "name": "stderr",
     "output_type": "stream",
     "text": [
      "100%|██████████| 15.5M/15.5M [00:02<00:00, 7.58MB/s]\n"
     ]
    },
    {
     "name": "stdout",
     "output_type": "stream",
     "text": [
      "\n",
      "Downloading sales-for-furniture-store.zip to ./datasets/zahraaalaatageldein/sales-for-furniture-store\n"
     ]
    },
    {
     "name": "stderr",
     "output_type": "stream",
     "text": [
      "100%|██████████| 124k/124k [00:00<00:00, 489kB/s]\n"
     ]
    },
    {
     "name": "stdout",
     "output_type": "stream",
     "text": [
      "\n",
      "Downloading cryptocurrencies-prices.zip to ./datasets/ahmadalijamali/cryptocurrencies-prices\n"
     ]
    },
    {
     "name": "stderr",
     "output_type": "stream",
     "text": [
      "100%|██████████| 552k/552k [00:00<00:00, 1.30MB/s]\n"
     ]
    },
    {
     "name": "stdout",
     "output_type": "stream",
     "text": [
      "\n",
      "Downloading top100-cryptocurrencies-022014.zip to ./datasets/youssefghaoui/top100-cryptocurrencies-022014\n"
     ]
    },
    {
     "name": "stderr",
     "output_type": "stream",
     "text": [
      "100%|██████████| 7.74M/7.74M [00:01<00:00, 6.00MB/s]\n"
     ]
    },
    {
     "name": "stdout",
     "output_type": "stream",
     "text": [
      "\n",
      "Downloading tesla-stock-price-dataset-2010-2024.zip to ./datasets/hussainnasirkhan/tesla-stock-price-dataset-2010-2024\n",
      "\n"
     ]
    },
    {
     "name": "stderr",
     "output_type": "stream",
     "text": [
      "100%|██████████| 89.0k/89.0k [00:00<00:00, 806kB/s]\n"
     ]
    },
    {
     "name": "stdout",
     "output_type": "stream",
     "text": [
      "Downloading nifty50-index-data-01012022-31122023.zip to ./datasets/jaioberoi/nifty50-index-data-01012022-31122023\n",
      "\n"
     ]
    },
    {
     "name": "stderr",
     "output_type": "stream",
     "text": [
      "100%|██████████| 6.72k/6.72k [00:00<00:00, 14.6MB/s]\n"
     ]
    },
    {
     "name": "stdout",
     "output_type": "stream",
     "text": [
      "Downloading various-nifty-indices-tsa-data-14-02-2023-24.zip to ./datasets/mohamedfahim003/various-nifty-indices-tsa-data-14-02-2023-24\n"
     ]
    },
    {
     "name": "stderr",
     "output_type": "stream",
     "text": [
      "100%|██████████| 98.8k/98.8k [00:00<00:00, 436kB/s]\n"
     ]
    },
    {
     "name": "stdout",
     "output_type": "stream",
     "text": [
      "\n",
      "Downloading british-pound-inflation-1750-2023.zip to ./datasets/mdtoomey/british-pound-inflation-1750-2023\n",
      "\n"
     ]
    },
    {
     "name": "stderr",
     "output_type": "stream",
     "text": [
      "100%|██████████| 3.78k/3.78k [00:00<00:00, 12.4MB/s]\n"
     ]
    },
    {
     "name": "stdout",
     "output_type": "stream",
     "text": [
      "Downloading tokyo-wholesale-tuna-prices.zip to ./datasets/tcashion/tokyo-wholesale-tuna-prices\n",
      "\n"
     ]
    },
    {
     "name": "stderr",
     "output_type": "stream",
     "text": [
      "100%|██████████| 13.7k/13.7k [00:00<00:00, 50.9MB/s]\n"
     ]
    },
    {
     "name": "stdout",
     "output_type": "stream",
     "text": [
      "Downloading stock-prices-updated-till-jan-24.zip to ./datasets/shivanggulati/stock-prices-updated-till-jan-24\n"
     ]
    },
    {
     "name": "stderr",
     "output_type": "stream",
     "text": [
      "100%|██████████| 1.98M/1.98M [00:00<00:00, 5.20MB/s]\n"
     ]
    },
    {
     "name": "stdout",
     "output_type": "stream",
     "text": [
      "\n",
      "Downloading nse-historical-data-1990-2023.zip to ./datasets/ujjvalpatel1003/nse-historical-data-1990-2023\n"
     ]
    },
    {
     "name": "stderr",
     "output_type": "stream",
     "text": [
      "100%|██████████| 179M/179M [00:17<00:00, 10.9MB/s] \n"
     ]
    },
    {
     "name": "stdout",
     "output_type": "stream",
     "text": [
      "\n",
      "Downloading world-governments-expenditure-dataset-2000-2021.zip to ./datasets/adamgrey88/world-governments-expenditure-dataset-2000-2021\n"
     ]
    },
    {
     "name": "stderr",
     "output_type": "stream",
     "text": [
      "100%|██████████| 436k/436k [00:00<00:00, 837kB/s]\n"
     ]
    },
    {
     "name": "stdout",
     "output_type": "stream",
     "text": [
      "\n",
      "Downloading johnson-and-johnson-quarterly-earnings.zip to ./datasets/nirmalsankalana/johnson-and-johnson-quarterly-earnings\n",
      "\n"
     ]
    },
    {
     "name": "stderr",
     "output_type": "stream",
     "text": [
      "100%|██████████| 839/839 [00:00<00:00, 2.45MB/s]\n"
     ]
    },
    {
     "name": "stdout",
     "output_type": "stream",
     "text": [
      "Downloading mirae-asset-price-prediction-dataset.zip to ./datasets/akashpawar10/mirae-asset-price-prediction-dataset\n",
      "\n"
     ]
    },
    {
     "name": "stderr",
     "output_type": "stream",
     "text": [
      "100%|██████████| 2.19k/2.19k [00:00<00:00, 3.71MB/s]\n"
     ]
    },
    {
     "name": "stdout",
     "output_type": "stream",
     "text": [
      "Downloading etfs-bonds-market-dataset.zip to ./datasets/kornilovag94/etfs-bonds-market-dataset\n"
     ]
    },
    {
     "name": "stderr",
     "output_type": "stream",
     "text": [
      "100%|██████████| 496k/496k [00:00<00:00, 1.92MB/s]\n"
     ]
    },
    {
     "name": "stdout",
     "output_type": "stream",
     "text": [
      "\n",
      "Downloading vix-index-cboe-volatility-index.zip to ./datasets/kornilovag94/vix-index-cboe-volatility-index\n",
      "\n"
     ]
    },
    {
     "name": "stderr",
     "output_type": "stream",
     "text": [
      "100%|██████████| 47.3k/47.3k [00:00<00:00, 1.41MB/s]\n"
     ]
    },
    {
     "name": "stdout",
     "output_type": "stream",
     "text": [
      "Downloading bitcoin-price-prediction.zip to ./datasets/akashpawar10/bitcoin-price-prediction\n",
      "\n"
     ]
    },
    {
     "name": "stderr",
     "output_type": "stream",
     "text": [
      "100%|██████████| 12.4k/12.4k [00:00<00:00, 34.5MB/s]\n"
     ]
    },
    {
     "name": "stdout",
     "output_type": "stream",
     "text": [
      "Downloading turkey-investment-funds-data.zip to ./datasets/soraka/turkey-investment-funds-data\n"
     ]
    },
    {
     "name": "stderr",
     "output_type": "stream",
     "text": [
      " 99%|█████████▉| 91.0M/91.8M [00:08<00:00, 10.6MB/s]"
     ]
    },
    {
     "name": "stdout",
     "output_type": "stream",
     "text": [
      "\n"
     ]
    },
    {
     "name": "stderr",
     "output_type": "stream",
     "text": [
      "100%|██████████| 91.8M/91.8M [00:08<00:00, 11.1MB/s]\n"
     ]
    },
    {
     "name": "stdout",
     "output_type": "stream",
     "text": [
      "Downloading gold-stock-prices.zip to ./datasets/sahilwagh/gold-stock-prices\n",
      "\n"
     ]
    },
    {
     "name": "stderr",
     "output_type": "stream",
     "text": [
      "100%|██████████| 46.1k/46.1k [00:00<00:00, 1.49MB/s]\n"
     ]
    },
    {
     "name": "stdout",
     "output_type": "stream",
     "text": [
      "Downloading amazonstockprice.zip to ./datasets/jillanisofttech/amazonstockprice\n"
     ]
    },
    {
     "name": "stderr",
     "output_type": "stream",
     "text": [
      "100%|██████████| 285k/285k [00:00<00:00, 1.19MB/s]\n"
     ]
    },
    {
     "name": "stdout",
     "output_type": "stream",
     "text": [
      "\n",
      "Downloading gold-coin-prices.zip to ./datasets/willianoliveiragibin/gold-coin-prices\n",
      "\n"
     ]
    },
    {
     "name": "stderr",
     "output_type": "stream",
     "text": [
      "100%|██████████| 59.9k/59.9k [00:00<00:00, 3.58MB/s]\n"
     ]
    },
    {
     "name": "stdout",
     "output_type": "stream",
     "text": [
      "Downloading indias-finance-1980-to-2015.zip to ./datasets/willianoliveiragibin/indias-finance-1980-to-2015\n",
      "\n"
     ]
    },
    {
     "name": "stderr",
     "output_type": "stream",
     "text": [
      "100%|██████████| 2.87k/2.87k [00:00<00:00, 6.30MB/s]\n"
     ]
    },
    {
     "name": "stdout",
     "output_type": "stream",
     "text": [
      "Downloading cymbal-investments.zip to ./datasets/mustafakeser4/cymbal-investments\n"
     ]
    },
    {
     "name": "stderr",
     "output_type": "stream",
     "text": [
      "100%|██████████| 58.2M/58.2M [00:05<00:00, 10.7MB/s]\n"
     ]
    },
    {
     "name": "stdout",
     "output_type": "stream",
     "text": [
      "\n",
      "Downloading tesla-stock-price.zip to ./datasets/jillanisofttech/tesla-stock-price\n",
      "\n"
     ]
    },
    {
     "name": "stderr",
     "output_type": "stream",
     "text": [
      "100%|██████████| 79.6k/79.6k [00:00<00:00, 728kB/s]\n"
     ]
    },
    {
     "name": "stdout",
     "output_type": "stream",
     "text": [
      "Downloading sales-from-different-stores.zip to ./datasets/kzmontage/sales-from-different-stores\n"
     ]
    },
    {
     "name": "stderr",
     "output_type": "stream",
     "text": [
      "100%|██████████| 3.47M/3.47M [00:00<00:00, 4.38MB/s]\n"
     ]
    },
    {
     "name": "stdout",
     "output_type": "stream",
     "text": [
      "\n",
      "Downloading foreign-exchange-rates-daily-updates.zip to ./datasets/konradb/foreign-exchange-rates-daily-updates\n"
     ]
    },
    {
     "name": "stderr",
     "output_type": "stream",
     "text": [
      "100%|██████████| 2.93M/2.93M [00:00<00:00, 6.38MB/s]\n"
     ]
    },
    {
     "name": "stdout",
     "output_type": "stream",
     "text": [
      "\n",
      "Downloading bitcoin-historical-data-jan-2018-jan-2022-per-min.zip to ./datasets/bunnyjr/bitcoin-historical-data-jan-2018-jan-2022-per-min\n"
     ]
    },
    {
     "name": "stderr",
     "output_type": "stream",
     "text": [
      "100%|██████████| 63.2M/63.2M [00:06<00:00, 10.9MB/s]\n"
     ]
    },
    {
     "name": "stdout",
     "output_type": "stream",
     "text": [
      "\n",
      "Downloading vegetable-prices.zip to ./datasets/ksamiksha19/vegetable-prices\n",
      "\n"
     ]
    },
    {
     "name": "stderr",
     "output_type": "stream",
     "text": [
      "100%|██████████| 2.87k/2.87k [00:00<00:00, 8.19MB/s]\n"
     ]
    },
    {
     "name": "stdout",
     "output_type": "stream",
     "text": [
      "Downloading bitcoin-time-series-datajan-2018-jan-2022.zip to ./datasets/shubham2703/bitcoin-time-series-datajan-2018-jan-2022\n"
     ]
    },
    {
     "name": "stderr",
     "output_type": "stream",
     "text": [
      "100%|██████████| 28.6M/28.6M [00:02<00:00, 10.5MB/s]\n"
     ]
    },
    {
     "name": "stdout",
     "output_type": "stream",
     "text": [
      "\n",
      "Downloading google-10-years-stockprice-dataset.zip to ./datasets/jillanisofttech/google-10-years-stockprice-dataset\n"
     ]
    },
    {
     "name": "stderr",
     "output_type": "stream",
     "text": [
      "100%|██████████| 151k/151k [00:00<00:00, 661kB/s]\n"
     ]
    },
    {
     "name": "stdout",
     "output_type": "stream",
     "text": [
      "\n",
      "Downloading trends-product-coffee-shop-sales-revenue-dataset.zip to ./datasets/agungpambudi/trends-product-coffee-shop-sales-revenue-dataset\n"
     ]
    },
    {
     "name": "stderr",
     "output_type": "stream",
     "text": [
      "100%|██████████| 2.54M/2.54M [00:00<00:00, 5.84MB/s]\n"
     ]
    },
    {
     "name": "stdout",
     "output_type": "stream",
     "text": [
      "\n",
      "Downloading data-science-salaries-2023.zip to ./datasets/iamsouravbanerjee/data-science-salaries-2023\n"
     ]
    },
    {
     "name": "stderr",
     "output_type": "stream",
     "text": [
      "100%|██████████| 279k/279k [00:00<00:00, 1.16MB/s]\n"
     ]
    },
    {
     "name": "stdout",
     "output_type": "stream",
     "text": [
      "\n",
      "Downloading dolla-price.zip to ./datasets/adilashrafi/dolla-price\n",
      "\n"
     ]
    },
    {
     "name": "stderr",
     "output_type": "stream",
     "text": [
      "100%|██████████| 50.4k/50.4k [00:00<00:00, 5.83MB/s]\n"
     ]
    },
    {
     "name": "stdout",
     "output_type": "stream",
     "text": [
      "Downloading uk-write-off-timeseries-data.zip to ./datasets/liamhealy/uk-write-off-timeseries-data\n",
      "\n"
     ]
    },
    {
     "name": "stderr",
     "output_type": "stream",
     "text": [
      "100%|██████████| 2.62k/2.62k [00:00<00:00, 14.5MB/s]\n"
     ]
    },
    {
     "name": "stdout",
     "output_type": "stream",
     "text": [
      "Downloading extra-us-stocks-market-data.zip to ./datasets/olegshpagin/extra-us-stocks-market-data\n"
     ]
    },
    {
     "name": "stderr",
     "output_type": "stream",
     "text": [
      "100%|██████████| 8.05G/8.05G [13:13<00:00, 10.9MB/s]\n"
     ]
    },
    {
     "name": "stdout",
     "output_type": "stream",
     "text": [
      "\n",
      "Downloading inr-foreign-exchange-rate-2006-2023.zip to ./datasets/samriddhi1311/inr-foreign-exchange-rate-2006-2023\n"
     ]
    },
    {
     "name": "stderr",
     "output_type": "stream",
     "text": [
      "100%|██████████| 938k/938k [00:00<00:00, 1.26MB/s]\n"
     ]
    },
    {
     "name": "stdout",
     "output_type": "stream",
     "text": [
      "\n",
      "Downloading crypto-market-data-2023.zip to ./datasets/spoorthiuk/crypto-market-data-2023\n"
     ]
    },
    {
     "name": "stderr",
     "output_type": "stream",
     "text": [
      "100%|██████████| 969k/969k [00:00<00:00, 3.22MB/s]\n"
     ]
    },
    {
     "name": "stdout",
     "output_type": "stream",
     "text": [
      "\n",
      "Downloading uk-mortgage-rates.zip to ./datasets/liamhealy/uk-mortgage-rates\n",
      "\n"
     ]
    },
    {
     "name": "stderr",
     "output_type": "stream",
     "text": [
      "100%|██████████| 4.68k/4.68k [00:00<00:00, 8.32MB/s]\n"
     ]
    },
    {
     "name": "stdout",
     "output_type": "stream",
     "text": [
      "Downloading uk-savings-interest-rates.zip to ./datasets/liamhealy/uk-savings-interest-rates\n",
      "\n"
     ]
    },
    {
     "name": "stderr",
     "output_type": "stream",
     "text": [
      "100%|██████████| 3.16k/3.16k [00:00<00:00, 11.9MB/s]\n"
     ]
    },
    {
     "name": "stdout",
     "output_type": "stream",
     "text": [
      "Downloading the-effect-of-economic-news-on-gold-prices.zip to ./datasets/fekihmea/the-effect-of-economic-news-on-gold-prices\n",
      "\n"
     ]
    },
    {
     "name": "stderr",
     "output_type": "stream",
     "text": [
      "100%|██████████| 50.1k/50.1k [00:00<00:00, 5.07MB/s]\n"
     ]
    },
    {
     "name": "stdout",
     "output_type": "stream",
     "text": [
      "Downloading dummy-truck-sales-for-time-series.zip to ./datasets/ddosad/dummy-truck-sales-for-time-series\n",
      "\n"
     ]
    },
    {
     "name": "stderr",
     "output_type": "stream",
     "text": [
      "100%|██████████| 826/826 [00:00<00:00, 3.73MB/s]\n"
     ]
    },
    {
     "name": "stdout",
     "output_type": "stream",
     "text": [
      "Downloading online-retail-transaction-data.zip to ./datasets/thedevastator/online-retail-transaction-data\n"
     ]
    },
    {
     "name": "stderr",
     "output_type": "stream",
     "text": [
      "100%|██████████| 8.68M/8.68M [00:01<00:00, 6.22MB/s]\n"
     ]
    },
    {
     "name": "stdout",
     "output_type": "stream",
     "text": [
      "\n",
      "Downloading global-video-game-sales-and-ratings.zip to ./datasets/thedevastator/global-video-game-sales-and-ratings\n"
     ]
    },
    {
     "name": "stderr",
     "output_type": "stream",
     "text": [
      "100%|██████████| 70.7k/70.7k [00:00<00:00, 320kB/s]\n"
     ]
    },
    {
     "name": "stdout",
     "output_type": "stream",
     "text": [
      "\n",
      "Downloading music-sales-by-format-and-year.zip to ./datasets/thedevastator/music-sales-by-format-and-year\n",
      "\n"
     ]
    },
    {
     "name": "stderr",
     "output_type": "stream",
     "text": [
      "100%|██████████| 23.7k/23.7k [00:00<00:00, 3.56MB/s]\n"
     ]
    },
    {
     "name": "stdout",
     "output_type": "stream",
     "text": [
      "Downloading euro-exchange-daily-rates-19992020.zip to ./datasets/lsind18/euro-exchange-daily-rates-19992020\n"
     ]
    },
    {
     "name": "stderr",
     "output_type": "stream",
     "text": [
      "100%|██████████| 639k/639k [00:00<00:00, 1.37MB/s]\n"
     ]
    },
    {
     "name": "stdout",
     "output_type": "stream",
     "text": [
      "\n",
      "Downloading immobilier-france.zip to ./datasets/benoitfavier/immobilier-france\n"
     ]
    },
    {
     "name": "stderr",
     "output_type": "stream",
     "text": [
      "100%|██████████| 299M/299M [00:28<00:00, 10.9MB/s] \n"
     ]
    },
    {
     "name": "stdout",
     "output_type": "stream",
     "text": [
      "\n",
      "Downloading fixed-income-returns-and-macro-trends.zip to ./datasets/macrosynergy/fixed-income-returns-and-macro-trends\n"
     ]
    },
    {
     "name": "stderr",
     "output_type": "stream",
     "text": [
      "100%|██████████| 31.4M/31.4M [00:03<00:00, 10.6MB/s]\n"
     ]
    },
    {
     "name": "stdout",
     "output_type": "stream",
     "text": [
      "\n",
      "Downloading stock-tesla.zip to ./datasets/willianoliveiragibin/stock-tesla\n",
      "\n"
     ]
    },
    {
     "name": "stderr",
     "output_type": "stream",
     "text": [
      "100%|██████████| 6.98k/6.98k [00:00<00:00, 35.0MB/s]\n"
     ]
    },
    {
     "name": "stdout",
     "output_type": "stream",
     "text": [
      "Downloading indian-railways-schedule-prices-availability-data.zip to ./datasets/bhavyarajdev/indian-railways-schedule-prices-availability-data\n"
     ]
    },
    {
     "name": "stderr",
     "output_type": "stream",
     "text": [
      "100%|██████████| 6.70M/6.70M [00:02<00:00, 3.07MB/s]\n"
     ]
    },
    {
     "name": "stdout",
     "output_type": "stream",
     "text": [
      "\n",
      "Downloading brazilian-stocks-dataset-5-years-of-1-minute-data.zip to ./datasets/antoniobrych/brazilian-stocks-dataset-5-years-of-1-minute-data\n"
     ]
    },
    {
     "name": "stderr",
     "output_type": "stream",
     "text": [
      "100%|██████████| 19.3M/19.3M [00:03<00:00, 5.27MB/s]\n"
     ]
    },
    {
     "name": "stdout",
     "output_type": "stream",
     "text": [
      "\n",
      "Downloading smartphone-retail-outlet-sales-data.zip to ./datasets/shubham2703/smartphone-retail-outlet-sales-data\n",
      "\n"
     ]
    },
    {
     "name": "stderr",
     "output_type": "stream",
     "text": [
      "100%|██████████| 46.1k/46.1k [00:00<00:00, 4.69MB/s]\n"
     ]
    },
    {
     "name": "stdout",
     "output_type": "stream",
     "text": [
      "Downloading us-postal-service-historical-data.zip to ./datasets/thedevastator/us-postal-service-historical-data\n",
      "\n"
     ]
    },
    {
     "name": "stderr",
     "output_type": "stream",
     "text": [
      "100%|██████████| 13.0k/13.0k [00:00<00:00, 56.5MB/s]\n"
     ]
    },
    {
     "name": "stdout",
     "output_type": "stream",
     "text": [
      "Downloading us-christmas-tree-sales.zip to ./datasets/thedevastator/us-christmas-tree-sales\n",
      "\n"
     ]
    },
    {
     "name": "stderr",
     "output_type": "stream",
     "text": [
      "100%|██████████| 2.63k/2.63k [00:00<00:00, 15.0MB/s]\n"
     ]
    },
    {
     "name": "stdout",
     "output_type": "stream",
     "text": [
      "Downloading music-sales-data.zip to ./datasets/thedevastator/music-sales-data\n",
      "\n"
     ]
    },
    {
     "name": "stderr",
     "output_type": "stream",
     "text": [
      "100%|██████████| 23.7k/23.7k [00:00<00:00, 3.71MB/s]\n"
     ]
    },
    {
     "name": "stdout",
     "output_type": "stream",
     "text": [
      "Downloading netflix-stock-price.zip to ./datasets/henryshan/netflix-stock-price\n"
     ]
    },
    {
     "name": "stderr",
     "output_type": "stream",
     "text": [
      "  0%|          | 0.00/104k [00:00<?, ?B/s]"
     ]
    },
    {
     "name": "stdout",
     "output_type": "stream",
     "text": [
      "\n"
     ]
    },
    {
     "name": "stderr",
     "output_type": "stream",
     "text": [
      "100%|██████████| 104k/104k [00:00<00:00, 297kB/s]\n"
     ]
    },
    {
     "name": "stdout",
     "output_type": "stream",
     "text": [
      "Downloading mtn-gh-stock-price-dataset.zip to ./datasets/redpen12/mtn-gh-stock-price-dataset\n",
      "\n"
     ]
    },
    {
     "name": "stderr",
     "output_type": "stream",
     "text": [
      "100%|██████████| 20.9k/20.9k [00:00<00:00, 5.60MB/s]\n"
     ]
    },
    {
     "name": "stdout",
     "output_type": "stream",
     "text": [
      "Downloading summer-products-sales-performance.zip to ./datasets/thedevastator/summer-products-sales-performance\n"
     ]
    },
    {
     "name": "stderr",
     "output_type": "stream",
     "text": [
      "100%|██████████| 426k/426k [00:00<00:00, 1.69MB/s]\n"
     ]
    },
    {
     "name": "stdout",
     "output_type": "stream",
     "text": [
      "\n",
      "Downloading coffee-sales.zip to ./datasets/ahmedabbas757/coffee-sales\n"
     ]
    },
    {
     "name": "stderr",
     "output_type": "stream",
     "text": [
      "100%|██████████| 8.23M/8.23M [00:01<00:00, 5.88MB/s]\n"
     ]
    },
    {
     "name": "stdout",
     "output_type": "stream",
     "text": [
      "\n",
      "Downloading financial-sample-dataset.zip to ./datasets/mariamrasaq/financial-sample-dataset\n",
      "\n"
     ]
    },
    {
     "name": "stderr",
     "output_type": "stream",
     "text": [
      "100%|██████████| 76.7k/76.7k [00:00<00:00, 547kB/s]\n"
     ]
    },
    {
     "name": "stdout",
     "output_type": "stream",
     "text": [
      "Downloading futurocoin-saga-a-200-year-cryptocurrency-odyssey.zip to ./datasets/kanchana1990/futurocoin-saga-a-200-year-cryptocurrency-odyssey\n"
     ]
    },
    {
     "name": "stderr",
     "output_type": "stream",
     "text": [
      "100%|██████████| 410k/410k [00:00<00:00, 1.63MB/s]\n"
     ]
    },
    {
     "name": "stdout",
     "output_type": "stream",
     "text": [
      "\n",
      "Downloading microsoft-stock-price2000-2023.zip to ./datasets/prajwaldongre/microsoft-stock-price2000-2023\n"
     ]
    },
    {
     "name": "stderr",
     "output_type": "stream",
     "text": [
      "  0%|          | 0.00/127k [00:00<?, ?B/s]"
     ]
    },
    {
     "name": "stdout",
     "output_type": "stream",
     "text": [
      "\n"
     ]
    },
    {
     "name": "stderr",
     "output_type": "stream",
     "text": [
      "100%|██████████| 127k/127k [00:00<00:00, 564kB/s]\n"
     ]
    },
    {
     "name": "stdout",
     "output_type": "stream",
     "text": [
      "Downloading tesla-stock-price-and-financial-metrics-dataset.zip to ./datasets/yassineyahyaouii/tesla-stock-price-and-financial-metrics-dataset\n",
      "\n"
     ]
    },
    {
     "name": "stderr",
     "output_type": "stream",
     "text": [
      "100%|██████████| 2.62k/2.62k [00:00<00:00, 14.0MB/s]\n"
     ]
    },
    {
     "name": "stdout",
     "output_type": "stream",
     "text": [
      "Downloading indonesia-stock-marketidx-price-data.zip to ./datasets/bestagi/indonesia-stock-marketidx-price-data\n"
     ]
    },
    {
     "name": "stderr",
     "output_type": "stream",
     "text": [
      "100%|██████████| 19.1M/19.1M [00:02<00:00, 7.82MB/s]\n"
     ]
    },
    {
     "name": "stdout",
     "output_type": "stream",
     "text": [
      "\n"
     ]
    }
   ],
   "source": [
    "for i, r in df.iterrows():\n",
    "    cmd = r['download']\n",
    "    subprocess.run(cmd.split(' '))"
   ]
  },
  {
   "cell_type": "code",
   "execution_count": null,
   "metadata": {},
   "outputs": [],
   "source": []
  }
 ],
 "metadata": {
  "kernelspec": {
   "display_name": "ai",
   "language": "python",
   "name": "python3"
  },
  "language_info": {
   "codemirror_mode": {
    "name": "ipython",
    "version": 3
   },
   "file_extension": ".py",
   "mimetype": "text/x-python",
   "name": "python",
   "nbconvert_exporter": "python",
   "pygments_lexer": "ipython3",
   "version": "3.12.2"
  }
 },
 "nbformat": 4,
 "nbformat_minor": 2
}
